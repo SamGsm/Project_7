{
 "cells": [
  {
   "cell_type": "code",
   "execution_count": null,
   "id": "b24ed544",
   "metadata": {},
   "outputs": [],
   "source": [
    "# 💀 Сложное задание! 💀\n",
    "# При помощи библиотеки gspread отправьте данные из предыдущего шага в Google SpreadSheet. Далее отправьте ссылку на получившийся файл в Google SpreadSheet (не забудьте открыть доступ по ссылке, это можно сделать вручную, когда данные уже зальются в таблицу) при помощи vk api себе в личку ВКонтакте. \n",
    "\n",
    "# ⭐️Задание со звёздочкой!⭐️\n",
    "# Другой аналитик уже агрегировал часть данных из метрики, и вам нужно объединить усилия, чтобы получить финальный отчет. Прочитайте дополнительные данные из Google SpreadSheet, объедините вашу таблицу из предыдущего шага с таблицей аналитика и посчитайте количество визитов на человека (отношение visits к users) в разрезе по браузеру и значениям Robots/People.\n",
    "# В ответе укажите, сколько визитов на уникального пользователя совершается ботами с браузера Google Chrome (округлите до целого)\n",
    "# Вот так можно прочитать данные другого аналитика:\n",
    "\n",
    "# from io import BytesIO\n",
    "# import requests\n",
    "# r = requests.get('https://docs.google.com/spreadsheets/d/e/2PACX-1vQWMsvBTVio9C7IOOxfFO9C15BRHyME-_ENHqBodDOjuiHwk9fCuF5hUVmDs497PZOqPYK3exdSikOK/pub?gid=1006633900&single=true&output=csv')\n",
    "# data = r.content\n",
    "\n",
    "# df = pd.read_csv(BytesIO(data))"
   ]
  },
  {
   "cell_type": "code",
   "execution_count": 9,
   "id": "6f3bd7ef",
   "metadata": {
    "tags": []
   },
   "outputs": [],
   "source": [
    "import pandas as pd\n",
    "import numpy as np\n",
    "import seaborn as sns\n",
    "import matplotlib.pyplot as plt\n",
    "\n",
    "import requests\n",
    "from urllib.parse import urlencode\n",
    "import json\n",
    "\n",
    "import vk_api\n",
    "\n",
    "import gspread\n",
    "from df2gspread import df2gspread as d2g\n",
    "from oauth2client.service_account import ServiceAccountCredentials"
   ]
  },
  {
   "cell_type": "code",
   "execution_count": null,
   "id": "2b21884a",
   "metadata": {},
   "outputs": [],
   "source": []
  },
  {
   "cell_type": "code",
   "execution_count": 10,
   "id": "7efc8738",
   "metadata": {
    "tags": []
   },
   "outputs": [],
   "source": [
    "# Create a list of the dates we need\n",
    "dates = ['2023-02-14', '2023-02-15', '2023-02-16']\n",
    "\n",
    "# Base url to service\n",
    "url = 'https://api-metrika.yandex.net/stat/v1/data?'\n",
    "\n",
    "\n",
    "# Create a dataframe\n",
    "df = pd.DataFrame()\n",
    "\n",
    "for date in dates:\n",
    "    \n",
    "    # &-separated parameters of query in a form of name=value, taken from the metrica site\n",
    "    visits = f\"metrics=ym:s:visits&dimensions=ym:s:date&filters=ym:s:date=='{date}'&&dimensions=ym:s:isRobot&id=44147844\"\n",
    "    \n",
    "    visits_url = url + visits\n",
    "    \n",
    "    # Get json of response\n",
    "    responce = requests.get(visits_url)\n",
    "    \n",
    "    # Parse our json into a dictionary\n",
    "    json_data = responce.json()\n",
    "    \n",
    "    for record in json_data['data']:\n",
    "        \n",
    "        # Extract data\n",
    "        intermediate_data = record['dimensions']\n",
    "        visits = record['metrics'][0]\n",
    "        date = intermediate_data[0]['name']\n",
    "        robot_type = intermediate_data[1]['name']      \n",
    "\n",
    "        # Create row and concat it to df\n",
    "        row = [[date, robot_type, visits]]\n",
    "        df = pd.concat([df, pd.DataFrame(row)], ignore_index=True)     "
   ]
  },
  {
   "cell_type": "code",
   "execution_count": 11,
   "id": "236d1fc6",
   "metadata": {
    "tags": []
   },
   "outputs": [],
   "source": [
    "# Rename columns\n",
    "df.columns = ['date', 'type', 'visits']"
   ]
  },
  {
   "cell_type": "code",
   "execution_count": 12,
   "id": "36f342a4",
   "metadata": {
    "tags": []
   },
   "outputs": [
    {
     "data": {
      "text/html": [
       "<div>\n",
       "<style scoped>\n",
       "    .dataframe tbody tr th:only-of-type {\n",
       "        vertical-align: middle;\n",
       "    }\n",
       "\n",
       "    .dataframe tbody tr th {\n",
       "        vertical-align: top;\n",
       "    }\n",
       "\n",
       "    .dataframe thead th {\n",
       "        text-align: right;\n",
       "    }\n",
       "</style>\n",
       "<table border=\"1\" class=\"dataframe\">\n",
       "  <thead>\n",
       "    <tr style=\"text-align: right;\">\n",
       "      <th></th>\n",
       "      <th>date</th>\n",
       "      <th>type</th>\n",
       "      <th>visits</th>\n",
       "    </tr>\n",
       "  </thead>\n",
       "  <tbody>\n",
       "    <tr>\n",
       "      <th>0</th>\n",
       "      <td>2023-02-14</td>\n",
       "      <td>People</td>\n",
       "      <td>482.0</td>\n",
       "    </tr>\n",
       "    <tr>\n",
       "      <th>1</th>\n",
       "      <td>2023-02-14</td>\n",
       "      <td>Robots</td>\n",
       "      <td>17.0</td>\n",
       "    </tr>\n",
       "    <tr>\n",
       "      <th>2</th>\n",
       "      <td>2023-02-15</td>\n",
       "      <td>People</td>\n",
       "      <td>512.0</td>\n",
       "    </tr>\n",
       "    <tr>\n",
       "      <th>3</th>\n",
       "      <td>2023-02-15</td>\n",
       "      <td>Robots</td>\n",
       "      <td>36.0</td>\n",
       "    </tr>\n",
       "    <tr>\n",
       "      <th>4</th>\n",
       "      <td>2023-02-16</td>\n",
       "      <td>People</td>\n",
       "      <td>492.0</td>\n",
       "    </tr>\n",
       "    <tr>\n",
       "      <th>5</th>\n",
       "      <td>2023-02-16</td>\n",
       "      <td>Robots</td>\n",
       "      <td>29.0</td>\n",
       "    </tr>\n",
       "  </tbody>\n",
       "</table>\n",
       "</div>"
      ],
      "text/plain": [
       "         date    type  visits\n",
       "0  2023-02-14  People   482.0\n",
       "1  2023-02-14  Robots    17.0\n",
       "2  2023-02-15  People   512.0\n",
       "3  2023-02-15  Robots    36.0\n",
       "4  2023-02-16  People   492.0\n",
       "5  2023-02-16  Robots    29.0"
      ]
     },
     "execution_count": 12,
     "metadata": {},
     "output_type": "execute_result"
    }
   ],
   "source": [
    "df"
   ]
  },
  {
   "cell_type": "code",
   "execution_count": 73,
   "id": "375cf53a",
   "metadata": {},
   "outputs": [],
   "source": [
    "# Load data into part_1.csv file\n",
    "df.to_csv('part_1.csv')"
   ]
  },
  {
   "cell_type": "code",
   "execution_count": null,
   "id": "74cf3708",
   "metadata": {},
   "outputs": [],
   "source": []
  },
  {
   "cell_type": "code",
   "execution_count": 13,
   "id": "74b63411",
   "metadata": {
    "tags": []
   },
   "outputs": [
    {
     "data": {
      "text/plain": [
       "<Axes: xlabel='date', ylabel='visits'>"
      ]
     },
     "execution_count": 13,
     "metadata": {},
     "output_type": "execute_result"
    },
    {
     "data": {
      "image/png": "[encoded data removed]",
      "text/plain": [
       "<Figure size 1200x800 with 1 Axes>"
      ]
     },
     "metadata": {},
     "output_type": "display_data"
    }
   ],
   "source": [
    "# Build a barplot\n",
    "sns.set(style='whitegrid',\n",
    "        rc={'figure.figsize':(12,8)})\n",
    "sns.barplot(data=df, \n",
    "            x='date', \n",
    "            hue='type',\n",
    "            y='visits')"
   ]
  },
  {
   "cell_type": "code",
   "execution_count": null,
   "id": "453e6c9a",
   "metadata": {},
   "outputs": [],
   "source": []
  },
  {
   "cell_type": "code",
   "execution_count": 14,
   "id": "c2cac672",
   "metadata": {
    "tags": []
   },
   "outputs": [],
   "source": [
    "# Reading data from Yandex.Metrica for 2023-02-16 and writing it to a dataframe\n",
    "\n",
    "# Base url to service\n",
    "url = 'https://api-metrika.yandex.net/stat/v1/data?'\n",
    "\n",
    "\n",
    "# Create a dataframe\n",
    "browser_df = pd.DataFrame()\n",
    "\n",
    "    \n",
    "# Parameters of query\n",
    "params = {'metrics': 'ym:s:visits',\n",
    "          'dimensions': ['ym:s:date', 'ym:s:isRobot', 'ym:s:browser'],\n",
    "          'filters': \"ym:s:date=='2023-02-16'\",\n",
    "          'id': 44147844}\n",
    "\n",
    "visits = urlencode(params, doseq=True)\n",
    "\n",
    "visits_url = url + visits\n",
    "\n",
    "# Get json of response\n",
    "responce = requests.get(visits_url)\n",
    "\n",
    "# Parse our json into a dictionary\n",
    "json_data = responce.json()\n",
    "    \n",
    "for record in json_data['data']:\n",
    "\n",
    "    # Extract data\n",
    "    intermediate_data = record['dimensions']\n",
    "    visits = record['metrics'][0]\n",
    "    date = intermediate_data[0]['name']\n",
    "    robot_type = intermediate_data[1]['name'] \n",
    "    browser_type = intermediate_data[2]['name'] \n",
    "\n",
    "    # Create row and concat it to df\n",
    "    row = [[date, robot_type, browser_type, visits]]\n",
    "    browser_df = pd.concat([browser_df, pd.DataFrame(row)], ignore_index=True)"
   ]
  },
  {
   "cell_type": "code",
   "execution_count": 15,
   "id": "3b92a7e4",
   "metadata": {
    "tags": []
   },
   "outputs": [],
   "source": [
    "# Rename columns\n",
    "browser_df.columns = ['date', 'type', 'browser','visits']"
   ]
  },
  {
   "cell_type": "code",
   "execution_count": 16,
   "id": "d590f7a9",
   "metadata": {
    "tags": []
   },
   "outputs": [],
   "source": [
    "# Load data into part_2.csv file\n",
    "browser_df.to_csv('part_2.csv')"
   ]
  },
  {
   "cell_type": "code",
   "execution_count": 17,
   "id": "418e1ac8",
   "metadata": {
    "tags": []
   },
   "outputs": [
    {
     "data": {
      "text/html": [
       "<div>\n",
       "<style scoped>\n",
       "    .dataframe tbody tr th:only-of-type {\n",
       "        vertical-align: middle;\n",
       "    }\n",
       "\n",
       "    .dataframe tbody tr th {\n",
       "        vertical-align: top;\n",
       "    }\n",
       "\n",
       "    .dataframe thead th {\n",
       "        text-align: right;\n",
       "    }\n",
       "</style>\n",
       "<table border=\"1\" class=\"dataframe\">\n",
       "  <thead>\n",
       "    <tr style=\"text-align: right;\">\n",
       "      <th></th>\n",
       "      <th>date</th>\n",
       "      <th>type</th>\n",
       "      <th>browser</th>\n",
       "      <th>visits</th>\n",
       "    </tr>\n",
       "  </thead>\n",
       "  <tbody>\n",
       "    <tr>\n",
       "      <th>0</th>\n",
       "      <td>2023-02-16</td>\n",
       "      <td>People</td>\n",
       "      <td>Google Chrome</td>\n",
       "      <td>222.0</td>\n",
       "    </tr>\n",
       "    <tr>\n",
       "      <th>1</th>\n",
       "      <td>2023-02-16</td>\n",
       "      <td>People</td>\n",
       "      <td>Chrome Mobile</td>\n",
       "      <td>124.0</td>\n",
       "    </tr>\n",
       "    <tr>\n",
       "      <th>2</th>\n",
       "      <td>2023-02-16</td>\n",
       "      <td>People</td>\n",
       "      <td>Yandex Browser</td>\n",
       "      <td>37.0</td>\n",
       "    </tr>\n",
       "    <tr>\n",
       "      <th>3</th>\n",
       "      <td>2023-02-16</td>\n",
       "      <td>People</td>\n",
       "      <td>Safari</td>\n",
       "      <td>32.0</td>\n",
       "    </tr>\n",
       "    <tr>\n",
       "      <th>4</th>\n",
       "      <td>2023-02-16</td>\n",
       "      <td>People</td>\n",
       "      <td>Edge</td>\n",
       "      <td>29.0</td>\n",
       "    </tr>\n",
       "  </tbody>\n",
       "</table>\n",
       "</div>"
      ],
      "text/plain": [
       "         date    type         browser  visits\n",
       "0  2023-02-16  People   Google Chrome   222.0\n",
       "1  2023-02-16  People   Chrome Mobile   124.0\n",
       "2  2023-02-16  People  Yandex Browser    37.0\n",
       "3  2023-02-16  People          Safari    32.0\n",
       "4  2023-02-16  People            Edge    29.0"
      ]
     },
     "execution_count": 17,
     "metadata": {},
     "output_type": "execute_result"
    }
   ],
   "source": [
    "browser_df.head()"
   ]
  },
  {
   "cell_type": "code",
   "execution_count": 18,
   "id": "1affa44e",
   "metadata": {
    "tags": []
   },
   "outputs": [],
   "source": [
    "# Determine the number of visitors for each browser\n",
    "visits_vs_browser = browser_df.groupby('browser').agg({'visits':'sum'})"
   ]
  },
  {
   "cell_type": "code",
   "execution_count": 19,
   "id": "e0eec396",
   "metadata": {
    "tags": []
   },
   "outputs": [
    {
     "data": {
      "text/plain": [
       "44.0"
      ]
     },
     "execution_count": 19,
     "metadata": {},
     "output_type": "execute_result"
    }
   ],
   "source": [
    "# Find the percentage of site visits from the Google Chrome browser to the total number and round up to integers\n",
    "round(visits_vs_browser.loc['Google Chrome'] / visits_vs_browser.sum() * 100)[0]"
   ]
  },
  {
   "cell_type": "code",
   "execution_count": null,
   "id": "60ac87cf",
   "metadata": {},
   "outputs": [],
   "source": []
  },
  {
   "cell_type": "code",
   "execution_count": 20,
   "id": "c4a07d1e",
   "metadata": {
    "tags": []
   },
   "outputs": [],
   "source": [
    "# Determine the number of visitors for each browser by removing the index\n",
    "visits_vs_browser = browser_df.groupby('browser', as_index=False).agg({'visits':'sum'})\n"
   ]
  },
  {
   "cell_type": "code",
   "execution_count": 21,
   "id": "6975471b",
   "metadata": {
    "tags": []
   },
   "outputs": [],
   "source": [
    "# Merge our dataframe with with a column of the total number of visitors for each browser and rename columns\n",
    "full_df = browser_df.merge(visits_vs_browser, \n",
    "                             on='browser',\n",
    "                             suffixes=('_type', '_all'))"
   ]
  },
  {
   "cell_type": "code",
   "execution_count": 22,
   "id": "bead8aaa",
   "metadata": {
    "tags": []
   },
   "outputs": [],
   "source": [
    "# Determine the number of visits of each type to the total number of browsers\n",
    "full_df['ratio'] = full_df.visits_type / full_df.visits_all"
   ]
  },
  {
   "cell_type": "code",
   "execution_count": 23,
   "id": "3b95f045",
   "metadata": {
    "tags": []
   },
   "outputs": [
    {
     "data": {
      "text/html": [
       "<div>\n",
       "<style scoped>\n",
       "    .dataframe tbody tr th:only-of-type {\n",
       "        vertical-align: middle;\n",
       "    }\n",
       "\n",
       "    .dataframe tbody tr th {\n",
       "        vertical-align: top;\n",
       "    }\n",
       "\n",
       "    .dataframe thead th {\n",
       "        text-align: right;\n",
       "    }\n",
       "</style>\n",
       "<table border=\"1\" class=\"dataframe\">\n",
       "  <thead>\n",
       "    <tr style=\"text-align: right;\">\n",
       "      <th></th>\n",
       "      <th>date</th>\n",
       "      <th>type</th>\n",
       "      <th>browser</th>\n",
       "      <th>visits_type</th>\n",
       "      <th>visits_all</th>\n",
       "      <th>ratio</th>\n",
       "    </tr>\n",
       "  </thead>\n",
       "  <tbody>\n",
       "    <tr>\n",
       "      <th>0</th>\n",
       "      <td>2023-02-16</td>\n",
       "      <td>People</td>\n",
       "      <td>Google Chrome</td>\n",
       "      <td>222.0</td>\n",
       "      <td>230.0</td>\n",
       "      <td>0.965217</td>\n",
       "    </tr>\n",
       "    <tr>\n",
       "      <th>1</th>\n",
       "      <td>2023-02-16</td>\n",
       "      <td>Robots</td>\n",
       "      <td>Google Chrome</td>\n",
       "      <td>8.0</td>\n",
       "      <td>230.0</td>\n",
       "      <td>0.034783</td>\n",
       "    </tr>\n",
       "    <tr>\n",
       "      <th>2</th>\n",
       "      <td>2023-02-16</td>\n",
       "      <td>People</td>\n",
       "      <td>Chrome Mobile</td>\n",
       "      <td>124.0</td>\n",
       "      <td>131.0</td>\n",
       "      <td>0.946565</td>\n",
       "    </tr>\n",
       "    <tr>\n",
       "      <th>3</th>\n",
       "      <td>2023-02-16</td>\n",
       "      <td>Robots</td>\n",
       "      <td>Chrome Mobile</td>\n",
       "      <td>7.0</td>\n",
       "      <td>131.0</td>\n",
       "      <td>0.053435</td>\n",
       "    </tr>\n",
       "    <tr>\n",
       "      <th>4</th>\n",
       "      <td>2023-02-16</td>\n",
       "      <td>People</td>\n",
       "      <td>Yandex Browser</td>\n",
       "      <td>37.0</td>\n",
       "      <td>40.0</td>\n",
       "      <td>0.925000</td>\n",
       "    </tr>\n",
       "  </tbody>\n",
       "</table>\n",
       "</div>"
      ],
      "text/plain": [
       "         date    type         browser  visits_type  visits_all     ratio\n",
       "0  2023-02-16  People   Google Chrome        222.0       230.0  0.965217\n",
       "1  2023-02-16  Robots   Google Chrome          8.0       230.0  0.034783\n",
       "2  2023-02-16  People   Chrome Mobile        124.0       131.0  0.946565\n",
       "3  2023-02-16  Robots   Chrome Mobile          7.0       131.0  0.053435\n",
       "4  2023-02-16  People  Yandex Browser         37.0        40.0  0.925000"
      ]
     },
     "execution_count": 23,
     "metadata": {},
     "output_type": "execute_result"
    }
   ],
   "source": [
    "full_df.head()"
   ]
  },
  {
   "cell_type": "code",
   "execution_count": 76,
   "id": "f0970707",
   "metadata": {},
   "outputs": [],
   "source": [
    "# Load data into part_3.csv file\n",
    "full_df.to_csv('part_3.csv')"
   ]
  },
  {
   "cell_type": "code",
   "execution_count": 24,
   "id": "07d85afd",
   "metadata": {
    "tags": []
   },
   "outputs": [
    {
     "data": {
      "text/html": [
       "<div>\n",
       "<style scoped>\n",
       "    .dataframe tbody tr th:only-of-type {\n",
       "        vertical-align: middle;\n",
       "    }\n",
       "\n",
       "    .dataframe tbody tr th {\n",
       "        vertical-align: top;\n",
       "    }\n",
       "\n",
       "    .dataframe thead th {\n",
       "        text-align: right;\n",
       "    }\n",
       "</style>\n",
       "<table border=\"1\" class=\"dataframe\">\n",
       "  <thead>\n",
       "    <tr style=\"text-align: right;\">\n",
       "      <th></th>\n",
       "      <th>date</th>\n",
       "      <th>type</th>\n",
       "      <th>browser</th>\n",
       "      <th>visits_type</th>\n",
       "      <th>visits_all</th>\n",
       "      <th>ratio</th>\n",
       "    </tr>\n",
       "  </thead>\n",
       "  <tbody>\n",
       "    <tr>\n",
       "      <th>1</th>\n",
       "      <td>2023-02-16</td>\n",
       "      <td>Robots</td>\n",
       "      <td>Google Chrome</td>\n",
       "      <td>8.0</td>\n",
       "      <td>230.0</td>\n",
       "      <td>0.034783</td>\n",
       "    </tr>\n",
       "  </tbody>\n",
       "</table>\n",
       "</div>"
      ],
      "text/plain": [
       "         date    type        browser  visits_type  visits_all     ratio\n",
       "1  2023-02-16  Robots  Google Chrome          8.0       230.0  0.034783"
      ]
     },
     "execution_count": 24,
     "metadata": {},
     "output_type": "execute_result"
    }
   ],
   "source": [
    "# Determine which browser has the smallest share of site visits by bots from the total number of visits\n",
    "full_df.query('type == \"Robots\"').nsmallest(1, columns='ratio')"
   ]
  },
  {
   "cell_type": "code",
   "execution_count": null,
   "id": "4ebfb995",
   "metadata": {},
   "outputs": [],
   "source": []
  },
  {
   "cell_type": "code",
   "execution_count": 25,
   "id": "e6244bb9",
   "metadata": {
    "tags": []
   },
   "outputs": [],
   "source": [
    "# Our data is unique, so you can not group it and use a dataframe with 3 parts, find the percentage ratio of the share of visits to the site from each source and enter this data in a new column\n",
    "browser_df['percent'] = browser_df.visits / browser_df.visits.sum() * 100"
   ]
  },
  {
   "cell_type": "code",
   "execution_count": 26,
   "id": "16f649ad",
   "metadata": {
    "tags": []
   },
   "outputs": [
    {
     "data": {
      "text/html": [
       "<div>\n",
       "<style scoped>\n",
       "    .dataframe tbody tr th:only-of-type {\n",
       "        vertical-align: middle;\n",
       "    }\n",
       "\n",
       "    .dataframe tbody tr th {\n",
       "        vertical-align: top;\n",
       "    }\n",
       "\n",
       "    .dataframe thead th {\n",
       "        text-align: right;\n",
       "    }\n",
       "</style>\n",
       "<table border=\"1\" class=\"dataframe\">\n",
       "  <thead>\n",
       "    <tr style=\"text-align: right;\">\n",
       "      <th></th>\n",
       "      <th>date</th>\n",
       "      <th>type</th>\n",
       "      <th>browser</th>\n",
       "      <th>visits</th>\n",
       "      <th>percent</th>\n",
       "    </tr>\n",
       "  </thead>\n",
       "  <tbody>\n",
       "    <tr>\n",
       "      <th>0</th>\n",
       "      <td>2023-02-16</td>\n",
       "      <td>People</td>\n",
       "      <td>Google Chrome</td>\n",
       "      <td>222.0</td>\n",
       "      <td>42.610365</td>\n",
       "    </tr>\n",
       "    <tr>\n",
       "      <th>1</th>\n",
       "      <td>2023-02-16</td>\n",
       "      <td>People</td>\n",
       "      <td>Chrome Mobile</td>\n",
       "      <td>124.0</td>\n",
       "      <td>23.800384</td>\n",
       "    </tr>\n",
       "    <tr>\n",
       "      <th>2</th>\n",
       "      <td>2023-02-16</td>\n",
       "      <td>People</td>\n",
       "      <td>Yandex Browser</td>\n",
       "      <td>37.0</td>\n",
       "      <td>7.101727</td>\n",
       "    </tr>\n",
       "    <tr>\n",
       "      <th>3</th>\n",
       "      <td>2023-02-16</td>\n",
       "      <td>People</td>\n",
       "      <td>Safari</td>\n",
       "      <td>32.0</td>\n",
       "      <td>6.142035</td>\n",
       "    </tr>\n",
       "    <tr>\n",
       "      <th>4</th>\n",
       "      <td>2023-02-16</td>\n",
       "      <td>People</td>\n",
       "      <td>Edge</td>\n",
       "      <td>29.0</td>\n",
       "      <td>5.566219</td>\n",
       "    </tr>\n",
       "  </tbody>\n",
       "</table>\n",
       "</div>"
      ],
      "text/plain": [
       "         date    type         browser  visits    percent\n",
       "0  2023-02-16  People   Google Chrome   222.0  42.610365\n",
       "1  2023-02-16  People   Chrome Mobile   124.0  23.800384\n",
       "2  2023-02-16  People  Yandex Browser    37.0   7.101727\n",
       "3  2023-02-16  People          Safari    32.0   6.142035\n",
       "4  2023-02-16  People            Edge    29.0   5.566219"
      ]
     },
     "execution_count": 26,
     "metadata": {},
     "output_type": "execute_result"
    }
   ],
   "source": [
    "browser_df.head()"
   ]
  },
  {
   "cell_type": "code",
   "execution_count": 27,
   "id": "66e4402a",
   "metadata": {
    "tags": []
   },
   "outputs": [
    {
     "data": {
      "text/html": [
       "<div>\n",
       "<style scoped>\n",
       "    .dataframe tbody tr th:only-of-type {\n",
       "        vertical-align: middle;\n",
       "    }\n",
       "\n",
       "    .dataframe tbody tr th {\n",
       "        vertical-align: top;\n",
       "    }\n",
       "\n",
       "    .dataframe thead th {\n",
       "        text-align: right;\n",
       "    }\n",
       "</style>\n",
       "<table border=\"1\" class=\"dataframe\">\n",
       "  <thead>\n",
       "    <tr style=\"text-align: right;\">\n",
       "      <th></th>\n",
       "      <th>date</th>\n",
       "      <th>type</th>\n",
       "      <th>browser</th>\n",
       "      <th>visits</th>\n",
       "      <th>percent</th>\n",
       "    </tr>\n",
       "  </thead>\n",
       "  <tbody>\n",
       "    <tr>\n",
       "      <th>3</th>\n",
       "      <td>2023-02-16</td>\n",
       "      <td>People</td>\n",
       "      <td>Safari</td>\n",
       "      <td>32.0</td>\n",
       "      <td>6.1</td>\n",
       "    </tr>\n",
       "  </tbody>\n",
       "</table>\n",
       "</div>"
      ],
      "text/plain": [
       "         date    type browser  visits  percent\n",
       "3  2023-02-16  People  Safari    32.0      6.1"
      ]
     },
     "execution_count": 27,
     "metadata": {},
     "output_type": "execute_result"
    }
   ],
   "source": [
    "# Percentage of site opens by browser Safari people(not bots) accurate to 1 decimal place\n",
    "round(browser_df.query('type == \"People\" and browser == \"Safari\"'), 1)"
   ]
  },
  {
   "cell_type": "code",
   "execution_count": 108,
   "id": "2561d7ff",
   "metadata": {},
   "outputs": [],
   "source": [
    "# Load data into part_4.csv file\n",
    "browser_df.to_csv('part_4.csv')"
   ]
  },
  {
   "cell_type": "code",
   "execution_count": null,
   "id": "69f159fc",
   "metadata": {},
   "outputs": [],
   "source": []
  },
  {
   "cell_type": "code",
   "execution_count": 86,
   "id": "ea434b7c",
   "metadata": {},
   "outputs": [],
   "source": [
    "# 💀 Сложное задание! 💀\n",
    "# При помощи библиотеки gspread отправьте данные из предыдущего шага в Google SpreadSheet. Далее отправьте ссылку на получившийся файл в Google SpreadSheet (не забудьте открыть доступ по ссылке, это можно сделать вручную, когда данные уже зальются в таблицу) при помощи vk api себе в личку ВКонтакте. "
   ]
  },
  {
   "cell_type": "code",
   "execution_count": 46,
   "id": "590a47e1",
   "metadata": {
    "tags": []
   },
   "outputs": [],
   "source": [
    "# Pass a set of permissions to our script\n",
    "scope = ['https://spreadsheets.google.com/feeds',\n",
    "         'https://www.googleapis.com/auth/drive']\n",
    "\n",
    "# email\n",
    "my_mail = 'samgsm333@gmail.com'\n",
    "\n",
    "\n",
    "# key with access\n",
    "path_to_credentials = '/Users/samgsm/token/samgsm.json'\n",
    "\n",
    "\n",
    "# Authorization\n",
    "credentials = ServiceAccountCredentials.from_json_keyfile_name(path_to_credentials, scope)\n",
    "gs = gspread.authorize(credentials)"
   ]
  },
  {
   "cell_type": "code",
   "execution_count": 47,
   "id": "52adcf0c",
   "metadata": {
    "tags": []
   },
   "outputs": [],
   "source": [
    "# New table name\n",
    "table_name = 'pet_project'"
   ]
  },
  {
   "cell_type": "code",
   "execution_count": 48,
   "id": "226f967b",
   "metadata": {
    "tags": []
   },
   "outputs": [
    {
     "data": {
      "text/plain": [
       "<Spreadsheet 'pet_project' id:1WFk9jCeyjV7MsEgd2byOi7Lg28zr0oUORgbHn_OXpE8>"
      ]
     },
     "execution_count": 48,
     "metadata": {},
     "output_type": "execute_result"
    }
   ],
   "source": [
    "# Create a table\n",
    "gs.create(table_name)"
   ]
  },
  {
   "cell_type": "code",
   "execution_count": 49,
   "id": "ce52716a",
   "metadata": {
    "tags": []
   },
   "outputs": [],
   "source": [
    "# Open the table\n",
    "table = gs.open(table_name)"
   ]
  },
  {
   "cell_type": "code",
   "execution_count": 50,
   "id": "a88b8c27",
   "metadata": {
    "tags": []
   },
   "outputs": [
    {
     "data": {
      "text/plain": [
       "<Response [200]>"
      ]
     },
     "execution_count": 50,
     "metadata": {},
     "output_type": "execute_result"
    }
   ],
   "source": [
    "# Share the table\n",
    "table.share(my_mail, perm_type='user', role='writer')"
   ]
  },
  {
   "cell_type": "code",
   "execution_count": 51,
   "id": "67bb4ac7",
   "metadata": {
    "tags": []
   },
   "outputs": [],
   "source": [
    "# List name\n",
    "sheet_name = 'list1'"
   ]
  },
  {
   "cell_type": "code",
   "execution_count": 52,
   "id": "5b90c635",
   "metadata": {
    "tags": []
   },
   "outputs": [],
   "source": [
    "# Drop index\n",
    "browser_df.reset_index(drop=True, inplace=True)"
   ]
  },
  {
   "cell_type": "code",
   "execution_count": 53,
   "id": "3f76ada6",
   "metadata": {
    "tags": []
   },
   "outputs": [
    {
     "data": {
      "text/plain": [
       "<Worksheet 'list1' id:108598916>"
      ]
     },
     "execution_count": 53,
     "metadata": {},
     "output_type": "execute_result"
    }
   ],
   "source": [
    "# Load dataframe into table\n",
    "d2g.upload(browser_df, \n",
    "           table_name, \n",
    "           sheet_name, \n",
    "           credentials=credentials,\n",
    "           row_names=True)"
   ]
  },
  {
   "cell_type": "code",
   "execution_count": null,
   "id": "7f8d15b4",
   "metadata": {},
   "outputs": [],
   "source": []
  },
  {
   "cell_type": "code",
   "execution_count": null,
   "id": "f4f70e80",
   "metadata": {},
   "outputs": [],
   "source": [
    "#VK"
   ]
  },
  {
   "cell_type": "code",
   "execution_count": 54,
   "id": "aff6ea22",
   "metadata": {
    "tags": []
   },
   "outputs": [],
   "source": [
    "# Go to the file with the token\n",
    "with open('/Users/samgsm/token/vk_token.json') as src:\n",
    "    credentials = json.load(src)"
   ]
  },
  {
   "cell_type": "code",
   "execution_count": 55,
   "id": "8ccac84d",
   "metadata": {
    "tags": []
   },
   "outputs": [],
   "source": [
    "# Assigning a token to a variable\n",
    "token = credentials['token']"
   ]
  },
  {
   "cell_type": "code",
   "execution_count": 56,
   "id": "5202a718",
   "metadata": {
    "tags": []
   },
   "outputs": [],
   "source": [
    "# Create a session\n",
    "chat_id = 1\n",
    "vk_session = vk_api.VkApi(token=token)\n",
    "vk = vk_session.get_api()"
   ]
  },
  {
   "cell_type": "code",
   "execution_count": 57,
   "id": "1e992009",
   "metadata": {
    "tags": []
   },
   "outputs": [],
   "source": [
    "link = 'https://docs.google.com/spreadsheets/d/1WFk9jCeyjV7MsEgd2byOi7Lg28zr0oUORgbHn_OXpE8/edit#gid=108598916'"
   ]
  },
  {
   "cell_type": "code",
   "execution_count": 59,
   "id": "85c0d311",
   "metadata": {
    "tags": []
   },
   "outputs": [
    {
     "ename": "ApiError",
     "evalue": "[901] Can't send messages for users without permission",
     "output_type": "error",
     "traceback": [
      "\u001b[0;31m---------------------------------------------------------------------------\u001b[0m",
      "\u001b[0;31mApiError\u001b[0m                                  Traceback (most recent call last)",
      "Cell \u001b[0;32mIn[59], line 11\u001b[0m\n\u001b[1;32m      5\u001b[0m path \u001b[38;5;241m=\u001b[39m \u001b[38;5;124m'\u001b[39m\u001b[38;5;124m/Users/samgsm/Project_7-master/part_4.csv\u001b[39m\u001b[38;5;124m'\u001b[39m\n\u001b[1;32m      8\u001b[0m file_name \u001b[38;5;241m=\u001b[39m \u001b[38;5;124m'\u001b[39m\u001b[38;5;124mtop_ctr_data.csv\u001b[39m\u001b[38;5;124m'\u001b[39m\n\u001b[0;32m---> 11\u001b[0m upload_url \u001b[38;5;241m=\u001b[39m \u001b[43mvk\u001b[49m\u001b[38;5;241;43m.\u001b[39;49m\u001b[43mdocs\u001b[49m\u001b[38;5;241;43m.\u001b[39;49m\u001b[43mgetMessagesUploadServer\u001b[49m\u001b[43m(\u001b[49m\u001b[43mpeer_id\u001b[49m\u001b[38;5;241;43m=\u001b[39;49m\u001b[43mmy_id\u001b[49m\u001b[43m)\u001b[49m[\u001b[38;5;124m\"\u001b[39m\u001b[38;5;124mupload_url\u001b[39m\u001b[38;5;124m\"\u001b[39m]\n",
      "File \u001b[0;32m/Library/Frameworks/Python.framework/Versions/3.10/lib/python3.10/site-packages/vk_api/vk_api.py:737\u001b[0m, in \u001b[0;36mVkApiMethod.__call__\u001b[0;34m(self, **kwargs)\u001b[0m\n\u001b[1;32m    734\u001b[0m     \u001b[38;5;28;01mif\u001b[39;00m \u001b[38;5;28misinstance\u001b[39m(v, (\u001b[38;5;28mlist\u001b[39m, \u001b[38;5;28mtuple\u001b[39m)):\n\u001b[1;32m    735\u001b[0m         kwargs[k] \u001b[38;5;241m=\u001b[39m \u001b[38;5;124m'\u001b[39m\u001b[38;5;124m,\u001b[39m\u001b[38;5;124m'\u001b[39m\u001b[38;5;241m.\u001b[39mjoin(\u001b[38;5;28mstr\u001b[39m(x) \u001b[38;5;28;01mfor\u001b[39;00m x \u001b[38;5;129;01min\u001b[39;00m v)\n\u001b[0;32m--> 737\u001b[0m \u001b[38;5;28;01mreturn\u001b[39;00m \u001b[38;5;28;43mself\u001b[39;49m\u001b[38;5;241;43m.\u001b[39;49m\u001b[43m_vk\u001b[49m\u001b[38;5;241;43m.\u001b[39;49m\u001b[43mmethod\u001b[49m\u001b[43m(\u001b[49m\u001b[38;5;28;43mself\u001b[39;49m\u001b[38;5;241;43m.\u001b[39;49m\u001b[43m_method\u001b[49m\u001b[43m,\u001b[49m\u001b[43m \u001b[49m\u001b[43mkwargs\u001b[49m\u001b[43m)\u001b[49m\n",
      "File \u001b[0;32m/Library/Frameworks/Python.framework/Versions/3.10/lib/python3.10/site-packages/vk_api/vk_api.py:697\u001b[0m, in \u001b[0;36mVkApi.method\u001b[0;34m(self, method, values, captcha_sid, captcha_key, raw)\u001b[0m\n\u001b[1;32m    694\u001b[0m         \u001b[38;5;28;01mif\u001b[39;00m response \u001b[38;5;129;01mis\u001b[39;00m \u001b[38;5;129;01mnot\u001b[39;00m \u001b[38;5;28;01mNone\u001b[39;00m:\n\u001b[1;32m    695\u001b[0m             \u001b[38;5;28;01mreturn\u001b[39;00m response\n\u001b[0;32m--> 697\u001b[0m     \u001b[38;5;28;01mraise\u001b[39;00m error\n\u001b[1;32m    699\u001b[0m \u001b[38;5;28;01mreturn\u001b[39;00m response \u001b[38;5;28;01mif\u001b[39;00m raw \u001b[38;5;28;01melse\u001b[39;00m response[\u001b[38;5;124m'\u001b[39m\u001b[38;5;124mresponse\u001b[39m\u001b[38;5;124m'\u001b[39m]\n",
      "\u001b[0;31mApiError\u001b[0m: [901] Can't send messages for users without permission"
     ]
    }
   ],
   "source": [
    "my_id = 218706183\n",
    "\n",
    "\n",
    "\n",
    "path = '/Users/samgsm/Project_7-master/part_4.csv'\n",
    "\n",
    "\n",
    "file_name = 'top_ctr_data.csv'\n",
    "\n",
    "\n",
    "upload_url = vk.docs.getMessagesUploadServer(peer_id=my_id)[\"upload_url\"]"
   ]
  },
  {
   "cell_type": "code",
   "execution_count": 60,
   "id": "6ae0d49f",
   "metadata": {
    "tags": []
   },
   "outputs": [
    {
     "ename": "NameError",
     "evalue": "name 'upload_url' is not defined",
     "output_type": "error",
     "traceback": [
      "\u001b[0;31m---------------------------------------------------------------------------\u001b[0m",
      "\u001b[0;31mNameError\u001b[0m                                 Traceback (most recent call last)",
      "Cell \u001b[0;32mIn[60], line 6\u001b[0m\n\u001b[1;32m      1\u001b[0m \u001b[38;5;28;01mwith\u001b[39;00m \u001b[38;5;28mopen\u001b[39m(path, \u001b[38;5;124m'\u001b[39m\u001b[38;5;124mrb\u001b[39m\u001b[38;5;124m'\u001b[39m) \u001b[38;5;28;01mas\u001b[39;00m f:\n\u001b[1;32m      3\u001b[0m     file \u001b[38;5;241m=\u001b[39m {\u001b[38;5;124m'\u001b[39m\u001b[38;5;124mfile\u001b[39m\u001b[38;5;124m'\u001b[39m: (file_name, f)}\n\u001b[0;32m----> 6\u001b[0m     response \u001b[38;5;241m=\u001b[39m requests\u001b[38;5;241m.\u001b[39mpost(\u001b[43mupload_url\u001b[49m, files\u001b[38;5;241m=\u001b[39mfile)\n",
      "\u001b[0;31mNameError\u001b[0m: name 'upload_url' is not defined"
     ]
    }
   ],
   "source": [
    "with open(path, 'rb') as f:\n",
    "\n",
    "    file = {'file': (file_name, f)}\n",
    "\n",
    "\n",
    "    response = requests.post(upload_url, files=file)"
   ]
  },
  {
   "cell_type": "code",
   "execution_count": null,
   "id": "06d00c90",
   "metadata": {},
   "outputs": [],
   "source": [
    "json_data = json.loads(response.text)\n",
    "saved_file = vk.docs.save(file=json_data['file'], title=file_name)"
   ]
  },
  {
   "cell_type": "code",
   "execution_count": null,
   "id": "cbc8b859",
   "metadata": {},
   "outputs": [],
   "source": [
    "\n",
    "attachment = 'doc{}_{}'.format(saved_file['doc']['owner_id'], saved_file['doc']['id'])"
   ]
  },
  {
   "cell_type": "code",
   "execution_count": null,
   "id": "c5c44308",
   "metadata": {},
   "outputs": [],
   "source": [
    "vk.messages.send(chat_id=chat_id, \n",
    "                 random_id=np.random.randint(0, 2**31), \n",
    "                 message=\"Hello\",\n",
    "                 attachment=attachment)\n"
   ]
  },
  {
   "cell_type": "code",
   "execution_count": null,
   "id": "5207b4e6",
   "metadata": {},
   "outputs": [],
   "source": []
  }
 ],
 "metadata": {
  "kernelspec": {
   "display_name": "Python 3 (ipykernel)",
   "language": "python",
   "name": "python3"
  },
  "language_info": {
   "codemirror_mode": {
    "name": "ipython",
    "version": 3
   },
   "file_extension": ".py",
   "mimetype": "text/x-python",
   "name": "python",
   "nbconvert_exporter": "python",
   "pygments_lexer": "ipython3",
   "version": "3.10.7"
  }
 },
 "nbformat": 4,
 "nbformat_minor": 5
}
