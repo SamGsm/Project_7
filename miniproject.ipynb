{
 "cells": [
  {
   "cell_type": "code",
   "execution_count": null,
   "id": "b24ed544",
   "metadata": {},
   "outputs": [],
   "source": [
    "# 💀 Сложное задание! 💀\n",
    "# При помощи библиотеки gspread отправьте данные из предыдущего шага в Google SpreadSheet. Далее отправьте ссылку на получившийся файл в Google SpreadSheet (не забудьте открыть доступ по ссылке, это можно сделать вручную, когда данные уже зальются в таблицу) при помощи vk api себе в личку ВКонтакте. \n",
    "\n",
    "# ⭐️Задание со звёздочкой!⭐️\n",
    "# Другой аналитик уже агрегировал часть данных из метрики, и вам нужно объединить усилия, чтобы получить финальный отчет. Прочитайте дополнительные данные из Google SpreadSheet, объедините вашу таблицу из предыдущего шага с таблицей аналитика и посчитайте количество визитов на человека (отношение visits к users) в разрезе по браузеру и значениям Robots/People.\n",
    "# В ответе укажите, сколько визитов на уникального пользователя совершается ботами с браузера Google Chrome (округлите до целого)\n",
    "# Вот так можно прочитать данные другого аналитика:\n",
    "\n",
    "# from io import BytesIO\n",
    "# import requests\n",
    "# r = requests.get('https://docs.google.com/spreadsheets/d/e/2PACX-1vQWMsvBTVio9C7IOOxfFO9C15BRHyME-_ENHqBodDOjuiHwk9fCuF5hUVmDs497PZOqPYK3exdSikOK/pub?gid=1006633900&single=true&output=csv')\n",
    "# data = r.content\n",
    "\n",
    "# df = pd.read_csv(BytesIO(data))"
   ]
  },
  {
   "cell_type": "code",
   "execution_count": 29,
   "id": "6f3bd7ef",
   "metadata": {},
   "outputs": [],
   "source": [
    "import pandas as pd\n",
    "import numpy as np\n",
    "import seaborn as sns\n",
    "import matplotlib.pyplot as plt\n",
    "\n",
    "import requests\n",
    "from urllib.parse import urlencode\n",
    "import json\n",
    "\n",
    "import vk_api\n",
    "\n",
    "import gspread\n",
    "from df2gspread import df2gspread as d2g\n",
    "from oauth2client.service_account import ServiceAccountCredentials"
   ]
  },
  {
   "cell_type": "code",
   "execution_count": null,
   "id": "2b21884a",
   "metadata": {},
   "outputs": [],
   "source": []
  },
  {
   "cell_type": "code",
   "execution_count": 26,
   "id": "7efc8738",
   "metadata": {},
   "outputs": [],
   "source": [
    "# Create a list of the dates we need\n",
    "dates = ['2023-02-14', '2023-02-15', '2023-02-16']\n",
    "\n",
    "# Base url to service\n",
    "url = 'https://api-metrika.yandex.net/stat/v1/data?'\n",
    "\n",
    "\n",
    "# Create a dataframe\n",
    "df = pd.DataFrame()\n",
    "\n",
    "for date in dates:\n",
    "    \n",
    "    # &-separated parameters of query in a form of name=value, taken from the metrica site\n",
    "    visits = f\"metrics=ym:s:visits&dimensions=ym:s:date&filters=ym:s:date=='{date}'&&dimensions=ym:s:isRobot&id=44147844\"\n",
    "    \n",
    "    visits_url = url + visits\n",
    "    \n",
    "    # Get json of response\n",
    "    responce = requests.get(visits_url)\n",
    "    \n",
    "    # Parse our json into a dictionary\n",
    "    json_data = responce.json()\n",
    "    \n",
    "    for record in json_data['data']:\n",
    "        \n",
    "        # Extract data\n",
    "        intermediate_data = record['dimensions']\n",
    "        visits = record['metrics'][0]\n",
    "        date = intermediate_data[0]['name']\n",
    "        robot_type = intermediate_data[1]['name']      \n",
    "\n",
    "        # Create row and concat it to df\n",
    "        row = [[date, robot_type, visits]]\n",
    "        df = pd.concat([df, pd.DataFrame(row)], ignore_index=True)     "
   ]
  },
  {
   "cell_type": "code",
   "execution_count": 27,
   "id": "236d1fc6",
   "metadata": {},
   "outputs": [],
   "source": [
    "# Rename columns\n",
    "df.columns = ['date', 'type', 'visits']"
   ]
  },
  {
   "cell_type": "code",
   "execution_count": 72,
   "id": "36f342a4",
   "metadata": {},
   "outputs": [
    {
     "data": {
      "text/html": [
       "<div>\n",
       "<style scoped>\n",
       "    .dataframe tbody tr th:only-of-type {\n",
       "        vertical-align: middle;\n",
       "    }\n",
       "\n",
       "    .dataframe tbody tr th {\n",
       "        vertical-align: top;\n",
       "    }\n",
       "\n",
       "    .dataframe thead th {\n",
       "        text-align: right;\n",
       "    }\n",
       "</style>\n",
       "<table border=\"1\" class=\"dataframe\">\n",
       "  <thead>\n",
       "    <tr style=\"text-align: right;\">\n",
       "      <th></th>\n",
       "      <th>date</th>\n",
       "      <th>type</th>\n",
       "      <th>visits</th>\n",
       "    </tr>\n",
       "  </thead>\n",
       "  <tbody>\n",
       "    <tr>\n",
       "      <th>0</th>\n",
       "      <td>2023-02-14</td>\n",
       "      <td>People</td>\n",
       "      <td>482.0</td>\n",
       "    </tr>\n",
       "    <tr>\n",
       "      <th>1</th>\n",
       "      <td>2023-02-14</td>\n",
       "      <td>Robots</td>\n",
       "      <td>17.0</td>\n",
       "    </tr>\n",
       "    <tr>\n",
       "      <th>2</th>\n",
       "      <td>2023-02-15</td>\n",
       "      <td>People</td>\n",
       "      <td>670.0</td>\n",
       "    </tr>\n",
       "    <tr>\n",
       "      <th>3</th>\n",
       "      <td>2023-02-15</td>\n",
       "      <td>Robots</td>\n",
       "      <td>40.0</td>\n",
       "    </tr>\n",
       "    <tr>\n",
       "      <th>4</th>\n",
       "      <td>2023-02-16</td>\n",
       "      <td>People</td>\n",
       "      <td>450.0</td>\n",
       "    </tr>\n",
       "    <tr>\n",
       "      <th>5</th>\n",
       "      <td>2023-02-16</td>\n",
       "      <td>Robots</td>\n",
       "      <td>40.0</td>\n",
       "    </tr>\n",
       "  </tbody>\n",
       "</table>\n",
       "</div>"
      ],
      "text/plain": [
       "         date    type  visits\n",
       "0  2023-02-14  People   482.0\n",
       "1  2023-02-14  Robots    17.0\n",
       "2  2023-02-15  People   670.0\n",
       "3  2023-02-15  Robots    40.0\n",
       "4  2023-02-16  People   450.0\n",
       "5  2023-02-16  Robots    40.0"
      ]
     },
     "execution_count": 72,
     "metadata": {},
     "output_type": "execute_result"
    }
   ],
   "source": [
    "df"
   ]
  },
  {
   "cell_type": "code",
   "execution_count": 73,
   "id": "375cf53a",
   "metadata": {},
   "outputs": [],
   "source": [
    "# Load data into part_1.csv file\n",
    "df.to_csv('part_1.csv')"
   ]
  },
  {
   "cell_type": "code",
   "execution_count": null,
   "id": "74cf3708",
   "metadata": {},
   "outputs": [],
   "source": []
  },
  {
   "cell_type": "code",
   "execution_count": 29,
   "id": "74b63411",
   "metadata": {},
   "outputs": [
    {
     "data": {
      "text/plain": [
       "<AxesSubplot:xlabel='date', ylabel='visits'>"
      ]
     },
     "execution_count": 29,
     "metadata": {},
     "output_type": "execute_result"
    },
    {
     "data": {
      "image/png": "[encoded data removed]",
      "text/plain": [
       "<Figure size 864x576 with 1 Axes>"
      ]
     },
     "metadata": {},
     "output_type": "display_data"
    }
   ],
   "source": [
    "# Build a barplot\n",
    "sns.set(style='whitegrid',\n",
    "        rc={'figure.figsize':(12,8)})\n",
    "sns.barplot(data=df, \n",
    "            x='date', \n",
    "            hue='type',\n",
    "            y='visits')"
   ]
  },
  {
   "cell_type": "code",
   "execution_count": null,
   "id": "453e6c9a",
   "metadata": {},
   "outputs": [],
   "source": []
  },
  {
   "cell_type": "code",
   "execution_count": 2,
   "id": "c2cac672",
   "metadata": {},
   "outputs": [],
   "source": [
    "# Reading data from Yandex.Metrica for 2023-02-16 and writing it to a dataframe\n",
    "\n",
    "# Base url to service\n",
    "url = 'https://api-metrika.yandex.net/stat/v1/data?'\n",
    "\n",
    "\n",
    "# Create a dataframe\n",
    "browser_df = pd.DataFrame()\n",
    "\n",
    "    \n",
    "# Parameters of query\n",
    "params = {'metrics': 'ym:s:visits',\n",
    "          'dimensions': ['ym:s:date', 'ym:s:isRobot', 'ym:s:browser'],\n",
    "          'filters': \"ym:s:date=='2023-02-16'\",\n",
    "          'id': 44147844}\n",
    "\n",
    "visits = urlencode(params, doseq=True)\n",
    "\n",
    "visits_url = url + visits\n",
    "\n",
    "# Get json of response\n",
    "responce = requests.get(visits_url)\n",
    "\n",
    "# Parse our json into a dictionary\n",
    "json_data = responce.json()\n",
    "    \n",
    "for record in json_data['data']:\n",
    "\n",
    "    # Extract data\n",
    "    intermediate_data = record['dimensions']\n",
    "    visits = record['metrics'][0]\n",
    "    date = intermediate_data[0]['name']\n",
    "    robot_type = intermediate_data[1]['name'] \n",
    "    browser_type = intermediate_data[2]['name'] \n",
    "\n",
    "    # Create row and concat it to df\n",
    "    row = [[date, robot_type, browser_type, visits]]\n",
    "    browser_df = pd.concat([browser_df, pd.DataFrame(row)], ignore_index=True)"
   ]
  },
  {
   "cell_type": "code",
   "execution_count": 3,
   "id": "3b92a7e4",
   "metadata": {},
   "outputs": [],
   "source": [
    "# Rename columns\n",
    "browser_df.columns = ['date', 'type', 'browser','visits']"
   ]
  },
  {
   "cell_type": "code",
   "execution_count": 75,
   "id": "d590f7a9",
   "metadata": {},
   "outputs": [],
   "source": [
    "# Load data into part_2.csv file\n",
    "browser_df.to_csv('part_2.csv')"
   ]
  },
  {
   "cell_type": "code",
   "execution_count": 4,
   "id": "418e1ac8",
   "metadata": {},
   "outputs": [
    {
     "data": {
      "text/html": [
       "<div>\n",
       "<style scoped>\n",
       "    .dataframe tbody tr th:only-of-type {\n",
       "        vertical-align: middle;\n",
       "    }\n",
       "\n",
       "    .dataframe tbody tr th {\n",
       "        vertical-align: top;\n",
       "    }\n",
       "\n",
       "    .dataframe thead th {\n",
       "        text-align: right;\n",
       "    }\n",
       "</style>\n",
       "<table border=\"1\" class=\"dataframe\">\n",
       "  <thead>\n",
       "    <tr style=\"text-align: right;\">\n",
       "      <th></th>\n",
       "      <th>date</th>\n",
       "      <th>type</th>\n",
       "      <th>browser</th>\n",
       "      <th>visits</th>\n",
       "    </tr>\n",
       "  </thead>\n",
       "  <tbody>\n",
       "    <tr>\n",
       "      <th>0</th>\n",
       "      <td>2023-02-16</td>\n",
       "      <td>People</td>\n",
       "      <td>Google Chrome</td>\n",
       "      <td>222.0</td>\n",
       "    </tr>\n",
       "    <tr>\n",
       "      <th>1</th>\n",
       "      <td>2023-02-16</td>\n",
       "      <td>People</td>\n",
       "      <td>Chrome Mobile</td>\n",
       "      <td>124.0</td>\n",
       "    </tr>\n",
       "    <tr>\n",
       "      <th>2</th>\n",
       "      <td>2023-02-16</td>\n",
       "      <td>People</td>\n",
       "      <td>Yandex Browser</td>\n",
       "      <td>37.0</td>\n",
       "    </tr>\n",
       "    <tr>\n",
       "      <th>3</th>\n",
       "      <td>2023-02-16</td>\n",
       "      <td>People</td>\n",
       "      <td>Safari</td>\n",
       "      <td>32.0</td>\n",
       "    </tr>\n",
       "    <tr>\n",
       "      <th>4</th>\n",
       "      <td>2023-02-16</td>\n",
       "      <td>People</td>\n",
       "      <td>Edge</td>\n",
       "      <td>29.0</td>\n",
       "    </tr>\n",
       "  </tbody>\n",
       "</table>\n",
       "</div>"
      ],
      "text/plain": [
       "         date    type         browser  visits\n",
       "0  2023-02-16  People   Google Chrome   222.0\n",
       "1  2023-02-16  People   Chrome Mobile   124.0\n",
       "2  2023-02-16  People  Yandex Browser    37.0\n",
       "3  2023-02-16  People          Safari    32.0\n",
       "4  2023-02-16  People            Edge    29.0"
      ]
     },
     "execution_count": 4,
     "metadata": {},
     "output_type": "execute_result"
    }
   ],
   "source": [
    "browser_df.head()"
   ]
  },
  {
   "cell_type": "code",
   "execution_count": 5,
   "id": "1affa44e",
   "metadata": {},
   "outputs": [],
   "source": [
    "# Determine the number of visitors for each browser\n",
    "visits_vs_browser = browser_df.groupby('browser').agg({'visits':'sum'})"
   ]
  },
  {
   "cell_type": "code",
   "execution_count": 6,
   "id": "e0eec396",
   "metadata": {},
   "outputs": [
    {
     "data": {
      "text/plain": [
       "44.0"
      ]
     },
     "execution_count": 6,
     "metadata": {},
     "output_type": "execute_result"
    }
   ],
   "source": [
    "# Find the percentage of site visits from the Google Chrome browser to the total number and round up to integers\n",
    "round(visits_vs_browser.loc['Google Chrome'] / visits_vs_browser.sum() * 100)[0]"
   ]
  },
  {
   "cell_type": "code",
   "execution_count": null,
   "id": "60ac87cf",
   "metadata": {},
   "outputs": [],
   "source": []
  },
  {
   "cell_type": "code",
   "execution_count": 7,
   "id": "c4a07d1e",
   "metadata": {},
   "outputs": [],
   "source": [
    "# Determine the number of visitors for each browser by removing the index\n",
    "visits_vs_browser = browser_df.groupby('browser', as_index=False).agg({'visits':'sum'})\n"
   ]
  },
  {
   "cell_type": "code",
   "execution_count": 8,
   "id": "6975471b",
   "metadata": {},
   "outputs": [],
   "source": [
    "# Merge our dataframe with with a column of the total number of visitors for each browser and rename columns\n",
    "full_df = browser_df.merge(visits_vs_browser, \n",
    "                             on='browser',\n",
    "                             suffixes=('_type', '_all'))"
   ]
  },
  {
   "cell_type": "code",
   "execution_count": 9,
   "id": "bead8aaa",
   "metadata": {},
   "outputs": [],
   "source": [
    "# Determine the number of visits of each type to the total number of browsers\n",
    "full_df['ratio'] = full_df.visits_type / full_df.visits_all"
   ]
  },
  {
   "cell_type": "code",
   "execution_count": 10,
   "id": "3b95f045",
   "metadata": {},
   "outputs": [
    {
     "data": {
      "text/html": [
       "<div>\n",
       "<style scoped>\n",
       "    .dataframe tbody tr th:only-of-type {\n",
       "        vertical-align: middle;\n",
       "    }\n",
       "\n",
       "    .dataframe tbody tr th {\n",
       "        vertical-align: top;\n",
       "    }\n",
       "\n",
       "    .dataframe thead th {\n",
       "        text-align: right;\n",
       "    }\n",
       "</style>\n",
       "<table border=\"1\" class=\"dataframe\">\n",
       "  <thead>\n",
       "    <tr style=\"text-align: right;\">\n",
       "      <th></th>\n",
       "      <th>date</th>\n",
       "      <th>type</th>\n",
       "      <th>browser</th>\n",
       "      <th>visits_type</th>\n",
       "      <th>visits_all</th>\n",
       "      <th>ratio</th>\n",
       "    </tr>\n",
       "  </thead>\n",
       "  <tbody>\n",
       "    <tr>\n",
       "      <th>0</th>\n",
       "      <td>2023-02-16</td>\n",
       "      <td>People</td>\n",
       "      <td>Google Chrome</td>\n",
       "      <td>222.0</td>\n",
       "      <td>230.0</td>\n",
       "      <td>0.965217</td>\n",
       "    </tr>\n",
       "    <tr>\n",
       "      <th>1</th>\n",
       "      <td>2023-02-16</td>\n",
       "      <td>Robots</td>\n",
       "      <td>Google Chrome</td>\n",
       "      <td>8.0</td>\n",
       "      <td>230.0</td>\n",
       "      <td>0.034783</td>\n",
       "    </tr>\n",
       "    <tr>\n",
       "      <th>2</th>\n",
       "      <td>2023-02-16</td>\n",
       "      <td>People</td>\n",
       "      <td>Chrome Mobile</td>\n",
       "      <td>124.0</td>\n",
       "      <td>131.0</td>\n",
       "      <td>0.946565</td>\n",
       "    </tr>\n",
       "    <tr>\n",
       "      <th>3</th>\n",
       "      <td>2023-02-16</td>\n",
       "      <td>Robots</td>\n",
       "      <td>Chrome Mobile</td>\n",
       "      <td>7.0</td>\n",
       "      <td>131.0</td>\n",
       "      <td>0.053435</td>\n",
       "    </tr>\n",
       "    <tr>\n",
       "      <th>4</th>\n",
       "      <td>2023-02-16</td>\n",
       "      <td>People</td>\n",
       "      <td>Yandex Browser</td>\n",
       "      <td>37.0</td>\n",
       "      <td>40.0</td>\n",
       "      <td>0.925000</td>\n",
       "    </tr>\n",
       "  </tbody>\n",
       "</table>\n",
       "</div>"
      ],
      "text/plain": [
       "         date    type         browser  visits_type  visits_all     ratio\n",
       "0  2023-02-16  People   Google Chrome        222.0       230.0  0.965217\n",
       "1  2023-02-16  Robots   Google Chrome          8.0       230.0  0.034783\n",
       "2  2023-02-16  People   Chrome Mobile        124.0       131.0  0.946565\n",
       "3  2023-02-16  Robots   Chrome Mobile          7.0       131.0  0.053435\n",
       "4  2023-02-16  People  Yandex Browser         37.0        40.0  0.925000"
      ]
     },
     "execution_count": 10,
     "metadata": {},
     "output_type": "execute_result"
    }
   ],
   "source": [
    "full_df.head()"
   ]
  },
  {
   "cell_type": "code",
   "execution_count": 76,
   "id": "f0970707",
   "metadata": {},
   "outputs": [],
   "source": [
    "# Load data into part_3.csv file\n",
    "full_df.to_csv('part_3.csv')"
   ]
  },
  {
   "cell_type": "code",
   "execution_count": 11,
   "id": "07d85afd",
   "metadata": {},
   "outputs": [
    {
     "data": {
      "text/html": [
       "<div>\n",
       "<style scoped>\n",
       "    .dataframe tbody tr th:only-of-type {\n",
       "        vertical-align: middle;\n",
       "    }\n",
       "\n",
       "    .dataframe tbody tr th {\n",
       "        vertical-align: top;\n",
       "    }\n",
       "\n",
       "    .dataframe thead th {\n",
       "        text-align: right;\n",
       "    }\n",
       "</style>\n",
       "<table border=\"1\" class=\"dataframe\">\n",
       "  <thead>\n",
       "    <tr style=\"text-align: right;\">\n",
       "      <th></th>\n",
       "      <th>date</th>\n",
       "      <th>type</th>\n",
       "      <th>browser</th>\n",
       "      <th>visits_type</th>\n",
       "      <th>visits_all</th>\n",
       "      <th>ratio</th>\n",
       "    </tr>\n",
       "  </thead>\n",
       "  <tbody>\n",
       "    <tr>\n",
       "      <th>1</th>\n",
       "      <td>2023-02-16</td>\n",
       "      <td>Robots</td>\n",
       "      <td>Google Chrome</td>\n",
       "      <td>8.0</td>\n",
       "      <td>230.0</td>\n",
       "      <td>0.034783</td>\n",
       "    </tr>\n",
       "  </tbody>\n",
       "</table>\n",
       "</div>"
      ],
      "text/plain": [
       "         date    type        browser  visits_type  visits_all     ratio\n",
       "1  2023-02-16  Robots  Google Chrome          8.0       230.0  0.034783"
      ]
     },
     "execution_count": 11,
     "metadata": {},
     "output_type": "execute_result"
    }
   ],
   "source": [
    "# Determine which browser has the smallest share of site visits by bots from the total number of visits\n",
    "full_df.query('type == \"Robots\"').nsmallest(1, columns='ratio')"
   ]
  },
  {
   "cell_type": "code",
   "execution_count": null,
   "id": "4ebfb995",
   "metadata": {},
   "outputs": [],
   "source": []
  },
  {
   "cell_type": "code",
   "execution_count": 12,
   "id": "e6244bb9",
   "metadata": {},
   "outputs": [],
   "source": [
    "# Our data is unique, so you can not group it and use a dataframe with 3 parts, find the percentage ratio of the share of visits to the site from each source and enter this data in a new column\n",
    "browser_df['percent'] = browser_df.visits / browser_df.visits.sum() * 100"
   ]
  },
  {
   "cell_type": "code",
   "execution_count": 14,
   "id": "16f649ad",
   "metadata": {},
   "outputs": [
    {
     "data": {
      "text/html": [
       "<div>\n",
       "<style scoped>\n",
       "    .dataframe tbody tr th:only-of-type {\n",
       "        vertical-align: middle;\n",
       "    }\n",
       "\n",
       "    .dataframe tbody tr th {\n",
       "        vertical-align: top;\n",
       "    }\n",
       "\n",
       "    .dataframe thead th {\n",
       "        text-align: right;\n",
       "    }\n",
       "</style>\n",
       "<table border=\"1\" class=\"dataframe\">\n",
       "  <thead>\n",
       "    <tr style=\"text-align: right;\">\n",
       "      <th></th>\n",
       "      <th>date</th>\n",
       "      <th>type</th>\n",
       "      <th>browser</th>\n",
       "      <th>visits</th>\n",
       "      <th>percent</th>\n",
       "    </tr>\n",
       "  </thead>\n",
       "  <tbody>\n",
       "    <tr>\n",
       "      <th>0</th>\n",
       "      <td>2023-02-16</td>\n",
       "      <td>People</td>\n",
       "      <td>Google Chrome</td>\n",
       "      <td>222.0</td>\n",
       "      <td>42.610365</td>\n",
       "    </tr>\n",
       "    <tr>\n",
       "      <th>1</th>\n",
       "      <td>2023-02-16</td>\n",
       "      <td>People</td>\n",
       "      <td>Chrome Mobile</td>\n",
       "      <td>124.0</td>\n",
       "      <td>23.800384</td>\n",
       "    </tr>\n",
       "    <tr>\n",
       "      <th>2</th>\n",
       "      <td>2023-02-16</td>\n",
       "      <td>People</td>\n",
       "      <td>Yandex Browser</td>\n",
       "      <td>37.0</td>\n",
       "      <td>7.101727</td>\n",
       "    </tr>\n",
       "    <tr>\n",
       "      <th>3</th>\n",
       "      <td>2023-02-16</td>\n",
       "      <td>People</td>\n",
       "      <td>Safari</td>\n",
       "      <td>32.0</td>\n",
       "      <td>6.142035</td>\n",
       "    </tr>\n",
       "    <tr>\n",
       "      <th>4</th>\n",
       "      <td>2023-02-16</td>\n",
       "      <td>People</td>\n",
       "      <td>Edge</td>\n",
       "      <td>29.0</td>\n",
       "      <td>5.566219</td>\n",
       "    </tr>\n",
       "  </tbody>\n",
       "</table>\n",
       "</div>"
      ],
      "text/plain": [
       "         date    type         browser  visits    percent\n",
       "0  2023-02-16  People   Google Chrome   222.0  42.610365\n",
       "1  2023-02-16  People   Chrome Mobile   124.0  23.800384\n",
       "2  2023-02-16  People  Yandex Browser    37.0   7.101727\n",
       "3  2023-02-16  People          Safari    32.0   6.142035\n",
       "4  2023-02-16  People            Edge    29.0   5.566219"
      ]
     },
     "execution_count": 14,
     "metadata": {},
     "output_type": "execute_result"
    }
   ],
   "source": [
    "browser_df.head()"
   ]
  },
  {
   "cell_type": "code",
   "execution_count": 15,
   "id": "66e4402a",
   "metadata": {},
   "outputs": [
    {
     "data": {
      "text/html": [
       "<div>\n",
       "<style scoped>\n",
       "    .dataframe tbody tr th:only-of-type {\n",
       "        vertical-align: middle;\n",
       "    }\n",
       "\n",
       "    .dataframe tbody tr th {\n",
       "        vertical-align: top;\n",
       "    }\n",
       "\n",
       "    .dataframe thead th {\n",
       "        text-align: right;\n",
       "    }\n",
       "</style>\n",
       "<table border=\"1\" class=\"dataframe\">\n",
       "  <thead>\n",
       "    <tr style=\"text-align: right;\">\n",
       "      <th></th>\n",
       "      <th>date</th>\n",
       "      <th>type</th>\n",
       "      <th>browser</th>\n",
       "      <th>visits</th>\n",
       "      <th>percent</th>\n",
       "    </tr>\n",
       "  </thead>\n",
       "  <tbody>\n",
       "    <tr>\n",
       "      <th>3</th>\n",
       "      <td>2023-02-16</td>\n",
       "      <td>People</td>\n",
       "      <td>Safari</td>\n",
       "      <td>32.0</td>\n",
       "      <td>6.1</td>\n",
       "    </tr>\n",
       "  </tbody>\n",
       "</table>\n",
       "</div>"
      ],
      "text/plain": [
       "         date    type browser  visits  percent\n",
       "3  2023-02-16  People  Safari    32.0      6.1"
      ]
     },
     "execution_count": 15,
     "metadata": {},
     "output_type": "execute_result"
    }
   ],
   "source": [
    "# Percentage of site opens by browser Safari people(not bots) accurate to 1 decimal place\n",
    "round(browser_df.query('type == \"People\" and browser == \"Safari\"'), 1)"
   ]
  },
  {
   "cell_type": "code",
   "execution_count": 108,
   "id": "2561d7ff",
   "metadata": {},
   "outputs": [],
   "source": [
    "# Load data into part_4.csv file\n",
    "browser_df.to_csv('part_4.csv')"
   ]
  },
  {
   "cell_type": "code",
   "execution_count": null,
   "id": "69f159fc",
   "metadata": {},
   "outputs": [],
   "source": []
  },
  {
   "cell_type": "code",
   "execution_count": 86,
   "id": "ea434b7c",
   "metadata": {},
   "outputs": [],
   "source": [
    "# 💀 Сложное задание! 💀\n",
    "# При помощи библиотеки gspread отправьте данные из предыдущего шага в Google SpreadSheet. Далее отправьте ссылку на получившийся файл в Google SpreadSheet (не забудьте открыть доступ по ссылке, это можно сделать вручную, когда данные уже зальются в таблицу) при помощи vk api себе в личку ВКонтакте. "
   ]
  },
  {
   "cell_type": "code",
   "execution_count": 43,
   "id": "590a47e1",
   "metadata": {},
   "outputs": [],
   "source": [
    "# Pass a set of permissions to our script\n",
    "scope = ['https://spreadsheets.google.com/feeds',\n",
    "         'https://www.googleapis.com/auth/drive']\n",
    "\n",
    "# email\n",
    "my_mail = 'samgsm@samgsmproject.iam.gserviceaccount.com'\n",
    "\n",
    "\n",
    "# key with access\n",
    "path_to_credentials = '/home/samgsm/data_analyst/token/samgsm.json'\n",
    "\n",
    "\n",
    "# Authorization\n",
    "credentials = ServiceAccountCredentials.from_json_keyfile_name(path_to_credentials, scope)\n",
    "gs = gspread.authorize(credentials)"
   ]
  },
  {
   "cell_type": "code",
   "execution_count": 44,
   "id": "52adcf0c",
   "metadata": {},
   "outputs": [],
   "source": [
    "# New table name\n",
    "table_name = 'project'"
   ]
  },
  {
   "cell_type": "code",
   "execution_count": 45,
   "id": "226f967b",
   "metadata": {},
   "outputs": [
    {
     "data": {
      "text/plain": [
       "<Spreadsheet 'project' id:1aSu-3sijXJEYDr6_64FwrnkI-O3UksTHhDjlRnJtVCM>"
      ]
     },
     "execution_count": 45,
     "metadata": {},
     "output_type": "execute_result"
    }
   ],
   "source": [
    "# Create a table\n",
    "gs.create(table_name)"
   ]
  },
  {
   "cell_type": "code",
   "execution_count": 46,
   "id": "ce52716a",
   "metadata": {},
   "outputs": [],
   "source": [
    "# Open the table\n",
    "table = gs.open(table_name)"
   ]
  },
  {
   "cell_type": "code",
   "execution_count": null,
   "id": "7f8d15b4",
   "metadata": {},
   "outputs": [],
   "source": []
  },
  {
   "cell_type": "code",
   "execution_count": 48,
   "id": "a88b8c27",
   "metadata": {},
   "outputs": [
    {
     "data": {
      "text/plain": [
       "<Response [200]>"
      ]
     },
     "execution_count": 48,
     "metadata": {},
     "output_type": "execute_result"
    }
   ],
   "source": [
    "# Share the table\n",
    "table.share(my_mail, perm_type='user', role='writer')"
   ]
  },
  {
   "cell_type": "code",
   "execution_count": 49,
   "id": "67bb4ac7",
   "metadata": {},
   "outputs": [],
   "source": [
    "# List name\n",
    "sheet_name = 'list1'"
   ]
  },
  {
   "cell_type": "code",
   "execution_count": 50,
   "id": "5b90c635",
   "metadata": {},
   "outputs": [],
   "source": [
    "# Drop index\n",
    "browser_df.reset_index(drop=True, inplace=True)"
   ]
  },
  {
   "cell_type": "code",
   "execution_count": 52,
   "id": "3f76ada6",
   "metadata": {},
   "outputs": [
    {
     "ename": "TimeoutError",
     "evalue": "[Errno 110] Connection timed out",
     "output_type": "error",
     "traceback": [
      "\u001b[0;31m---------------------------------------------------------------------------\u001b[0m",
      "\u001b[0;31mAPIError\u001b[0m                                  Traceback (most recent call last)",
      "\u001b[0;32m/usr/local/lib/python3.10/dist-packages/df2gspread/df2gspread.py\u001b[0m in \u001b[0;36mupload\u001b[0;34m(df, gfile, wks_name, col_names, row_names, clean, credentials, start_cell, df_size, new_sheet_dimensions)\u001b[0m\n\u001b[1;32m     76\u001b[0m     \u001b[0;32mtry\u001b[0m\u001b[0;34m:\u001b[0m\u001b[0;34m\u001b[0m\u001b[0;34m\u001b[0m\u001b[0m\n\u001b[0;32m---> 77\u001b[0;31m         \u001b[0mgc\u001b[0m\u001b[0;34m.\u001b[0m\u001b[0mopen_by_key\u001b[0m\u001b[0;34m(\u001b[0m\u001b[0mgfile\u001b[0m\u001b[0;34m)\u001b[0m\u001b[0;34m.\u001b[0m\u001b[0m__repr__\u001b[0m\u001b[0;34m(\u001b[0m\u001b[0;34m)\u001b[0m\u001b[0;34m\u001b[0m\u001b[0;34m\u001b[0m\u001b[0m\n\u001b[0m\u001b[1;32m     78\u001b[0m         \u001b[0mgfile_id\u001b[0m \u001b[0;34m=\u001b[0m \u001b[0mgfile\u001b[0m\u001b[0;34m\u001b[0m\u001b[0;34m\u001b[0m\u001b[0m\n",
      "\u001b[0;32m/usr/local/lib/python3.10/dist-packages/gspread/client.py\u001b[0m in \u001b[0;36mopen_by_key\u001b[0;34m(self, key)\u001b[0m\n\u001b[1;32m    169\u001b[0m         \"\"\"\n\u001b[0;32m--> 170\u001b[0;31m         \u001b[0;32mreturn\u001b[0m \u001b[0mSpreadsheet\u001b[0m\u001b[0;34m(\u001b[0m\u001b[0mself\u001b[0m\u001b[0;34m,\u001b[0m \u001b[0;34m{\u001b[0m\u001b[0;34m\"id\"\u001b[0m\u001b[0;34m:\u001b[0m \u001b[0mkey\u001b[0m\u001b[0;34m}\u001b[0m\u001b[0;34m)\u001b[0m\u001b[0;34m\u001b[0m\u001b[0;34m\u001b[0m\u001b[0m\n\u001b[0m\u001b[1;32m    171\u001b[0m \u001b[0;34m\u001b[0m\u001b[0m\n",
      "\u001b[0;32m/usr/local/lib/python3.10/dist-packages/gspread/spreadsheet.py\u001b[0m in \u001b[0;36m__init__\u001b[0;34m(self, client, properties)\u001b[0m\n\u001b[1;32m     33\u001b[0m \u001b[0;34m\u001b[0m\u001b[0m\n\u001b[0;32m---> 34\u001b[0;31m         \u001b[0mmetadata\u001b[0m \u001b[0;34m=\u001b[0m \u001b[0mself\u001b[0m\u001b[0;34m.\u001b[0m\u001b[0mfetch_sheet_metadata\u001b[0m\u001b[0;34m(\u001b[0m\u001b[0;34m)\u001b[0m\u001b[0;34m\u001b[0m\u001b[0;34m\u001b[0m\u001b[0m\n\u001b[0m\u001b[1;32m     35\u001b[0m         \u001b[0mself\u001b[0m\u001b[0;34m.\u001b[0m\u001b[0m_properties\u001b[0m\u001b[0;34m.\u001b[0m\u001b[0mupdate\u001b[0m\u001b[0;34m(\u001b[0m\u001b[0mmetadata\u001b[0m\u001b[0;34m[\u001b[0m\u001b[0;34m\"properties\"\u001b[0m\u001b[0;34m]\u001b[0m\u001b[0;34m)\u001b[0m\u001b[0;34m\u001b[0m\u001b[0;34m\u001b[0m\u001b[0m\n",
      "\u001b[0;32m/usr/local/lib/python3.10/dist-packages/gspread/spreadsheet.py\u001b[0m in \u001b[0;36mfetch_sheet_metadata\u001b[0;34m(self, params)\u001b[0m\n\u001b[1;32m    253\u001b[0m \u001b[0;34m\u001b[0m\u001b[0m\n\u001b[0;32m--> 254\u001b[0;31m         \u001b[0mr\u001b[0m \u001b[0;34m=\u001b[0m \u001b[0mself\u001b[0m\u001b[0;34m.\u001b[0m\u001b[0mclient\u001b[0m\u001b[0;34m.\u001b[0m\u001b[0mrequest\u001b[0m\u001b[0;34m(\u001b[0m\u001b[0;34m\"get\"\u001b[0m\u001b[0;34m,\u001b[0m \u001b[0murl\u001b[0m\u001b[0;34m,\u001b[0m \u001b[0mparams\u001b[0m\u001b[0;34m=\u001b[0m\u001b[0mparams\u001b[0m\u001b[0;34m)\u001b[0m\u001b[0;34m\u001b[0m\u001b[0;34m\u001b[0m\u001b[0m\n\u001b[0m\u001b[1;32m    255\u001b[0m \u001b[0;34m\u001b[0m\u001b[0m\n",
      "\u001b[0;32m/usr/local/lib/python3.10/dist-packages/gspread/client.py\u001b[0m in \u001b[0;36mrequest\u001b[0;34m(self, method, endpoint, params, data, json, files, headers)\u001b[0m\n\u001b[1;32m     91\u001b[0m         \u001b[0;32melse\u001b[0m\u001b[0;34m:\u001b[0m\u001b[0;34m\u001b[0m\u001b[0;34m\u001b[0m\u001b[0m\n\u001b[0;32m---> 92\u001b[0;31m             \u001b[0;32mraise\u001b[0m \u001b[0mAPIError\u001b[0m\u001b[0;34m(\u001b[0m\u001b[0mresponse\u001b[0m\u001b[0;34m)\u001b[0m\u001b[0;34m\u001b[0m\u001b[0;34m\u001b[0m\u001b[0m\n\u001b[0m\u001b[1;32m     93\u001b[0m \u001b[0;34m\u001b[0m\u001b[0m\n",
      "\u001b[0;31mAPIError\u001b[0m: {'code': 404, 'message': 'Requested entity was not found.', 'status': 'NOT_FOUND'}",
      "\nDuring handling of the above exception, another exception occurred:\n",
      "\u001b[0;31mTimeoutError\u001b[0m                              Traceback (most recent call last)",
      "\u001b[0;32m/tmp/ipykernel_15651/2902024424.py\u001b[0m in \u001b[0;36m<module>\u001b[0;34m\u001b[0m\n\u001b[1;32m      1\u001b[0m \u001b[0;31m# Load dataframe into table\u001b[0m\u001b[0;34m\u001b[0m\u001b[0;34m\u001b[0m\u001b[0m\n\u001b[0;32m----> 2\u001b[0;31m d2g.upload(browser_df, \n\u001b[0m\u001b[1;32m      3\u001b[0m            \u001b[0mtable_name\u001b[0m\u001b[0;34m,\u001b[0m\u001b[0;34m\u001b[0m\u001b[0;34m\u001b[0m\u001b[0m\n\u001b[1;32m      4\u001b[0m            \u001b[0msheet_name\u001b[0m\u001b[0;34m,\u001b[0m\u001b[0;34m\u001b[0m\u001b[0;34m\u001b[0m\u001b[0m\n\u001b[1;32m      5\u001b[0m            \u001b[0mcredentials\u001b[0m\u001b[0;34m=\u001b[0m\u001b[0mcredentials\u001b[0m\u001b[0;34m,\u001b[0m\u001b[0;34m\u001b[0m\u001b[0;34m\u001b[0m\u001b[0m\n",
      "\u001b[0;32m/usr/local/lib/python3.10/dist-packages/df2gspread/df2gspread.py\u001b[0m in \u001b[0;36mupload\u001b[0;34m(df, gfile, wks_name, col_names, row_names, clean, credentials, start_cell, df_size, new_sheet_dimensions)\u001b[0m\n\u001b[1;32m     78\u001b[0m         \u001b[0mgfile_id\u001b[0m \u001b[0;34m=\u001b[0m \u001b[0mgfile\u001b[0m\u001b[0;34m\u001b[0m\u001b[0;34m\u001b[0m\u001b[0m\n\u001b[1;32m     79\u001b[0m     \u001b[0;32mexcept\u001b[0m\u001b[0;34m:\u001b[0m\u001b[0;34m\u001b[0m\u001b[0;34m\u001b[0m\u001b[0m\n\u001b[0;32m---> 80\u001b[0;31m         \u001b[0mgfile_id\u001b[0m \u001b[0;34m=\u001b[0m \u001b[0mget_file_id\u001b[0m\u001b[0;34m(\u001b[0m\u001b[0mcredentials\u001b[0m\u001b[0;34m,\u001b[0m \u001b[0mgfile\u001b[0m\u001b[0;34m,\u001b[0m \u001b[0mwrite_access\u001b[0m\u001b[0;34m=\u001b[0m\u001b[0;32mTrue\u001b[0m\u001b[0;34m)\u001b[0m\u001b[0;34m\u001b[0m\u001b[0;34m\u001b[0m\u001b[0m\n\u001b[0m\u001b[1;32m     81\u001b[0m \u001b[0;34m\u001b[0m\u001b[0m\n\u001b[1;32m     82\u001b[0m     \u001b[0;31m# Tuple of rows, cols in the dataframe.\u001b[0m\u001b[0;34m\u001b[0m\u001b[0;34m\u001b[0m\u001b[0m\n",
      "\u001b[0;32m/usr/local/lib/python3.10/dist-packages/df2gspread/gfiles.py\u001b[0m in \u001b[0;36mget_file_id\u001b[0;34m(credentials, gfile, write_access)\u001b[0m\n\u001b[1;32m     42\u001b[0m     \u001b[0;31m# auth for apiclient\u001b[0m\u001b[0;34m\u001b[0m\u001b[0;34m\u001b[0m\u001b[0m\n\u001b[1;32m     43\u001b[0m     \u001b[0mhttp\u001b[0m \u001b[0;34m=\u001b[0m \u001b[0mcredentials\u001b[0m\u001b[0;34m.\u001b[0m\u001b[0mauthorize\u001b[0m\u001b[0;34m(\u001b[0m\u001b[0mHttp\u001b[0m\u001b[0;34m(\u001b[0m\u001b[0;34m)\u001b[0m\u001b[0;34m)\u001b[0m\u001b[0;34m\u001b[0m\u001b[0;34m\u001b[0m\u001b[0m\n\u001b[0;32m---> 44\u001b[0;31m     \u001b[0mservice\u001b[0m \u001b[0;34m=\u001b[0m \u001b[0mdiscovery\u001b[0m\u001b[0;34m.\u001b[0m\u001b[0mbuild\u001b[0m\u001b[0;34m(\u001b[0m\u001b[0;34m'drive'\u001b[0m\u001b[0;34m,\u001b[0m \u001b[0;34m'v3'\u001b[0m\u001b[0;34m,\u001b[0m \u001b[0mhttp\u001b[0m\u001b[0;34m=\u001b[0m\u001b[0mhttp\u001b[0m\u001b[0;34m,\u001b[0m \u001b[0mcache_discovery\u001b[0m\u001b[0;34m=\u001b[0m\u001b[0;32mFalse\u001b[0m\u001b[0;34m)\u001b[0m\u001b[0;34m\u001b[0m\u001b[0;34m\u001b[0m\u001b[0m\n\u001b[0m\u001b[1;32m     45\u001b[0m \u001b[0;34m\u001b[0m\u001b[0m\n\u001b[1;32m     46\u001b[0m     \u001b[0mfile_id\u001b[0m \u001b[0;34m=\u001b[0m \u001b[0mservice\u001b[0m\u001b[0;34m.\u001b[0m\u001b[0mfiles\u001b[0m\u001b[0;34m(\u001b[0m\u001b[0;34m)\u001b[0m\u001b[0;34m.\u001b[0m\u001b[0mget\u001b[0m\u001b[0;34m(\u001b[0m\u001b[0mfileId\u001b[0m\u001b[0;34m=\u001b[0m\u001b[0;34m'root'\u001b[0m\u001b[0;34m,\u001b[0m \u001b[0mfields\u001b[0m\u001b[0;34m=\u001b[0m\u001b[0;34m'id'\u001b[0m\u001b[0;34m)\u001b[0m\u001b[0;34m.\u001b[0m\u001b[0mexecute\u001b[0m\u001b[0;34m(\u001b[0m\u001b[0;34m)\u001b[0m\u001b[0;34m.\u001b[0m\u001b[0mget\u001b[0m\u001b[0;34m(\u001b[0m\u001b[0;34m'id'\u001b[0m\u001b[0;34m)\u001b[0m\u001b[0;34m\u001b[0m\u001b[0;34m\u001b[0m\u001b[0m\n",
      "\u001b[0;32m/usr/local/lib/python3.10/dist-packages/googleapiclient/_helpers.py\u001b[0m in \u001b[0;36mpositional_wrapper\u001b[0;34m(*args, **kwargs)\u001b[0m\n\u001b[1;32m    128\u001b[0m                 \u001b[0;32melif\u001b[0m \u001b[0mpositional_parameters_enforcement\u001b[0m \u001b[0;34m==\u001b[0m \u001b[0mPOSITIONAL_WARNING\u001b[0m\u001b[0;34m:\u001b[0m\u001b[0;34m\u001b[0m\u001b[0;34m\u001b[0m\u001b[0m\n\u001b[1;32m    129\u001b[0m                     \u001b[0mlogger\u001b[0m\u001b[0;34m.\u001b[0m\u001b[0mwarning\u001b[0m\u001b[0;34m(\u001b[0m\u001b[0mmessage\u001b[0m\u001b[0;34m)\u001b[0m\u001b[0;34m\u001b[0m\u001b[0;34m\u001b[0m\u001b[0m\n\u001b[0;32m--> 130\u001b[0;31m             \u001b[0;32mreturn\u001b[0m \u001b[0mwrapped\u001b[0m\u001b[0;34m(\u001b[0m\u001b[0;34m*\u001b[0m\u001b[0margs\u001b[0m\u001b[0;34m,\u001b[0m \u001b[0;34m**\u001b[0m\u001b[0mkwargs\u001b[0m\u001b[0;34m)\u001b[0m\u001b[0;34m\u001b[0m\u001b[0;34m\u001b[0m\u001b[0m\n\u001b[0m\u001b[1;32m    131\u001b[0m         \u001b[0;32mreturn\u001b[0m \u001b[0mpositional_wrapper\u001b[0m\u001b[0;34m\u001b[0m\u001b[0;34m\u001b[0m\u001b[0m\n\u001b[1;32m    132\u001b[0m \u001b[0;34m\u001b[0m\u001b[0m\n",
      "\u001b[0;32m/usr/local/lib/python3.10/dist-packages/googleapiclient/discovery.py\u001b[0m in \u001b[0;36mbuild\u001b[0;34m(serviceName, version, http, discoveryServiceUrl, developerKey, model, requestBuilder, credentials, cache_discovery, cache)\u001b[0m\n\u001b[1;32m    219\u001b[0m \u001b[0;34m\u001b[0m\u001b[0m\n\u001b[1;32m    220\u001b[0m     \u001b[0;32mtry\u001b[0m\u001b[0;34m:\u001b[0m\u001b[0;34m\u001b[0m\u001b[0;34m\u001b[0m\u001b[0m\n\u001b[0;32m--> 221\u001b[0;31m       content = _retrieve_discovery_doc(\n\u001b[0m\u001b[1;32m    222\u001b[0m         requested_url, discovery_http, cache_discovery, cache)\n\u001b[1;32m    223\u001b[0m       return build_from_document(content, base=discovery_url, http=http,\n",
      "\u001b[0;32m/usr/local/lib/python3.10/dist-packages/googleapiclient/discovery.py\u001b[0m in \u001b[0;36m_retrieve_discovery_doc\u001b[0;34m(url, http, cache_discovery, cache)\u001b[0m\n\u001b[1;32m    267\u001b[0m   \u001b[0mlogger\u001b[0m\u001b[0;34m.\u001b[0m\u001b[0minfo\u001b[0m\u001b[0;34m(\u001b[0m\u001b[0;34m'URL being requested: GET %s'\u001b[0m\u001b[0;34m,\u001b[0m \u001b[0mactual_url\u001b[0m\u001b[0;34m)\u001b[0m\u001b[0;34m\u001b[0m\u001b[0;34m\u001b[0m\u001b[0m\n\u001b[1;32m    268\u001b[0m \u001b[0;34m\u001b[0m\u001b[0m\n\u001b[0;32m--> 269\u001b[0;31m   \u001b[0mresp\u001b[0m\u001b[0;34m,\u001b[0m \u001b[0mcontent\u001b[0m \u001b[0;34m=\u001b[0m \u001b[0mhttp\u001b[0m\u001b[0;34m.\u001b[0m\u001b[0mrequest\u001b[0m\u001b[0;34m(\u001b[0m\u001b[0mactual_url\u001b[0m\u001b[0;34m)\u001b[0m\u001b[0;34m\u001b[0m\u001b[0;34m\u001b[0m\u001b[0m\n\u001b[0m\u001b[1;32m    270\u001b[0m \u001b[0;34m\u001b[0m\u001b[0m\n\u001b[1;32m    271\u001b[0m   \u001b[0;32mif\u001b[0m \u001b[0mresp\u001b[0m\u001b[0;34m.\u001b[0m\u001b[0mstatus\u001b[0m \u001b[0;34m>=\u001b[0m \u001b[0;36m400\u001b[0m\u001b[0;34m:\u001b[0m\u001b[0;34m\u001b[0m\u001b[0;34m\u001b[0m\u001b[0m\n",
      "\u001b[0;32m/usr/local/lib/python3.10/dist-packages/oauth2client/transport.py\u001b[0m in \u001b[0;36mnew_request\u001b[0;34m(uri, method, body, headers, redirections, connection_type)\u001b[0m\n\u001b[1;32m    157\u001b[0m             _LOGGER.info('Attempting refresh to obtain '\n\u001b[1;32m    158\u001b[0m                          'initial access_token')\n\u001b[0;32m--> 159\u001b[0;31m             \u001b[0mcredentials\u001b[0m\u001b[0;34m.\u001b[0m\u001b[0m_refresh\u001b[0m\u001b[0;34m(\u001b[0m\u001b[0morig_request_method\u001b[0m\u001b[0;34m)\u001b[0m\u001b[0;34m\u001b[0m\u001b[0;34m\u001b[0m\u001b[0m\n\u001b[0m\u001b[1;32m    160\u001b[0m \u001b[0;34m\u001b[0m\u001b[0m\n\u001b[1;32m    161\u001b[0m         \u001b[0;31m# Clone and modify the request headers to add the appropriate\u001b[0m\u001b[0;34m\u001b[0m\u001b[0;34m\u001b[0m\u001b[0m\n",
      "\u001b[0;32m/usr/local/lib/python3.10/dist-packages/oauth2client/client.py\u001b[0m in \u001b[0;36m_refresh\u001b[0;34m(self, http)\u001b[0m\n\u001b[1;32m    747\u001b[0m         \"\"\"\n\u001b[1;32m    748\u001b[0m         \u001b[0;32mif\u001b[0m \u001b[0;32mnot\u001b[0m \u001b[0mself\u001b[0m\u001b[0;34m.\u001b[0m\u001b[0mstore\u001b[0m\u001b[0;34m:\u001b[0m\u001b[0;34m\u001b[0m\u001b[0;34m\u001b[0m\u001b[0m\n\u001b[0;32m--> 749\u001b[0;31m             \u001b[0mself\u001b[0m\u001b[0;34m.\u001b[0m\u001b[0m_do_refresh_request\u001b[0m\u001b[0;34m(\u001b[0m\u001b[0mhttp\u001b[0m\u001b[0;34m)\u001b[0m\u001b[0;34m\u001b[0m\u001b[0;34m\u001b[0m\u001b[0m\n\u001b[0m\u001b[1;32m    750\u001b[0m         \u001b[0;32melse\u001b[0m\u001b[0;34m:\u001b[0m\u001b[0;34m\u001b[0m\u001b[0;34m\u001b[0m\u001b[0m\n\u001b[1;32m    751\u001b[0m             \u001b[0mself\u001b[0m\u001b[0;34m.\u001b[0m\u001b[0mstore\u001b[0m\u001b[0;34m.\u001b[0m\u001b[0macquire_lock\u001b[0m\u001b[0;34m(\u001b[0m\u001b[0;34m)\u001b[0m\u001b[0;34m\u001b[0m\u001b[0;34m\u001b[0m\u001b[0m\n",
      "\u001b[0;32m/usr/local/lib/python3.10/dist-packages/oauth2client/client.py\u001b[0m in \u001b[0;36m_do_refresh_request\u001b[0;34m(self, http)\u001b[0m\n\u001b[1;32m    776\u001b[0m \u001b[0;34m\u001b[0m\u001b[0m\n\u001b[1;32m    777\u001b[0m         \u001b[0mlogger\u001b[0m\u001b[0;34m.\u001b[0m\u001b[0minfo\u001b[0m\u001b[0;34m(\u001b[0m\u001b[0;34m'Refreshing access_token'\u001b[0m\u001b[0;34m)\u001b[0m\u001b[0;34m\u001b[0m\u001b[0;34m\u001b[0m\u001b[0m\n\u001b[0;32m--> 778\u001b[0;31m         resp, content = transport.request(\n\u001b[0m\u001b[1;32m    779\u001b[0m             \u001b[0mhttp\u001b[0m\u001b[0;34m,\u001b[0m \u001b[0mself\u001b[0m\u001b[0;34m.\u001b[0m\u001b[0mtoken_uri\u001b[0m\u001b[0;34m,\u001b[0m \u001b[0mmethod\u001b[0m\u001b[0;34m=\u001b[0m\u001b[0;34m'POST'\u001b[0m\u001b[0;34m,\u001b[0m\u001b[0;34m\u001b[0m\u001b[0;34m\u001b[0m\u001b[0m\n\u001b[1;32m    780\u001b[0m             body=body, headers=headers)\n",
      "\u001b[0;32m/usr/local/lib/python3.10/dist-packages/oauth2client/transport.py\u001b[0m in \u001b[0;36mrequest\u001b[0;34m(http, uri, method, body, headers, redirections, connection_type)\u001b[0m\n\u001b[1;32m    278\u001b[0m     \u001b[0;31m# NOTE: Allowing http or http.request is temporary (See Issue 601).\u001b[0m\u001b[0;34m\u001b[0m\u001b[0;34m\u001b[0m\u001b[0m\n\u001b[1;32m    279\u001b[0m     \u001b[0mhttp_callable\u001b[0m \u001b[0;34m=\u001b[0m \u001b[0mgetattr\u001b[0m\u001b[0;34m(\u001b[0m\u001b[0mhttp\u001b[0m\u001b[0;34m,\u001b[0m \u001b[0;34m'request'\u001b[0m\u001b[0;34m,\u001b[0m \u001b[0mhttp\u001b[0m\u001b[0;34m)\u001b[0m\u001b[0;34m\u001b[0m\u001b[0;34m\u001b[0m\u001b[0m\n\u001b[0;32m--> 280\u001b[0;31m     return http_callable(uri, method=method, body=body, headers=headers,\n\u001b[0m\u001b[1;32m    281\u001b[0m                          \u001b[0mredirections\u001b[0m\u001b[0;34m=\u001b[0m\u001b[0mredirections\u001b[0m\u001b[0;34m,\u001b[0m\u001b[0;34m\u001b[0m\u001b[0;34m\u001b[0m\u001b[0m\n\u001b[1;32m    282\u001b[0m                          connection_type=connection_type)\n",
      "\u001b[0;32m/usr/lib/python3/dist-packages/httplib2/__init__.py\u001b[0m in \u001b[0;36mrequest\u001b[0;34m(self, uri, method, body, headers, redirections, connection_type)\u001b[0m\n\u001b[1;32m   1723\u001b[0m                     \u001b[0mcontent\u001b[0m \u001b[0;34m=\u001b[0m \u001b[0;34mb\"\"\u001b[0m\u001b[0;34m\u001b[0m\u001b[0;34m\u001b[0m\u001b[0m\n\u001b[1;32m   1724\u001b[0m                 \u001b[0;32melse\u001b[0m\u001b[0;34m:\u001b[0m\u001b[0;34m\u001b[0m\u001b[0;34m\u001b[0m\u001b[0m\n\u001b[0;32m-> 1725\u001b[0;31m                     (response, content) = self._request(\n\u001b[0m\u001b[1;32m   1726\u001b[0m                         \u001b[0mconn\u001b[0m\u001b[0;34m,\u001b[0m \u001b[0mauthority\u001b[0m\u001b[0;34m,\u001b[0m \u001b[0muri\u001b[0m\u001b[0;34m,\u001b[0m \u001b[0mrequest_uri\u001b[0m\u001b[0;34m,\u001b[0m \u001b[0mmethod\u001b[0m\u001b[0;34m,\u001b[0m \u001b[0mbody\u001b[0m\u001b[0;34m,\u001b[0m \u001b[0mheaders\u001b[0m\u001b[0;34m,\u001b[0m \u001b[0mredirections\u001b[0m\u001b[0;34m,\u001b[0m \u001b[0mcachekey\u001b[0m\u001b[0;34m,\u001b[0m\u001b[0;34m\u001b[0m\u001b[0;34m\u001b[0m\u001b[0m\n\u001b[1;32m   1727\u001b[0m                     )\n",
      "\u001b[0;32m/usr/lib/python3/dist-packages/httplib2/__init__.py\u001b[0m in \u001b[0;36m_request\u001b[0;34m(self, conn, host, absolute_uri, request_uri, method, body, headers, redirections, cachekey)\u001b[0m\n\u001b[1;32m   1439\u001b[0m             \u001b[0mauth\u001b[0m\u001b[0;34m.\u001b[0m\u001b[0mrequest\u001b[0m\u001b[0;34m(\u001b[0m\u001b[0mmethod\u001b[0m\u001b[0;34m,\u001b[0m \u001b[0mrequest_uri\u001b[0m\u001b[0;34m,\u001b[0m \u001b[0mheaders\u001b[0m\u001b[0;34m,\u001b[0m \u001b[0mbody\u001b[0m\u001b[0;34m)\u001b[0m\u001b[0;34m\u001b[0m\u001b[0;34m\u001b[0m\u001b[0m\n\u001b[1;32m   1440\u001b[0m \u001b[0;34m\u001b[0m\u001b[0m\n\u001b[0;32m-> 1441\u001b[0;31m         \u001b[0;34m(\u001b[0m\u001b[0mresponse\u001b[0m\u001b[0;34m,\u001b[0m \u001b[0mcontent\u001b[0m\u001b[0;34m)\u001b[0m \u001b[0;34m=\u001b[0m \u001b[0mself\u001b[0m\u001b[0;34m.\u001b[0m\u001b[0m_conn_request\u001b[0m\u001b[0;34m(\u001b[0m\u001b[0mconn\u001b[0m\u001b[0;34m,\u001b[0m \u001b[0mrequest_uri\u001b[0m\u001b[0;34m,\u001b[0m \u001b[0mmethod\u001b[0m\u001b[0;34m,\u001b[0m \u001b[0mbody\u001b[0m\u001b[0;34m,\u001b[0m \u001b[0mheaders\u001b[0m\u001b[0;34m)\u001b[0m\u001b[0;34m\u001b[0m\u001b[0;34m\u001b[0m\u001b[0m\n\u001b[0m\u001b[1;32m   1442\u001b[0m \u001b[0;34m\u001b[0m\u001b[0m\n\u001b[1;32m   1443\u001b[0m         \u001b[0;32mif\u001b[0m \u001b[0mauth\u001b[0m\u001b[0;34m:\u001b[0m\u001b[0;34m\u001b[0m\u001b[0;34m\u001b[0m\u001b[0m\n",
      "\u001b[0;32m/usr/lib/python3/dist-packages/httplib2/__init__.py\u001b[0m in \u001b[0;36m_conn_request\u001b[0;34m(self, conn, request_uri, method, body, headers)\u001b[0m\n\u001b[1;32m   1361\u001b[0m             \u001b[0;32mtry\u001b[0m\u001b[0;34m:\u001b[0m\u001b[0;34m\u001b[0m\u001b[0;34m\u001b[0m\u001b[0m\n\u001b[1;32m   1362\u001b[0m                 \u001b[0;32mif\u001b[0m \u001b[0mconn\u001b[0m\u001b[0;34m.\u001b[0m\u001b[0msock\u001b[0m \u001b[0;32mis\u001b[0m \u001b[0;32mNone\u001b[0m\u001b[0;34m:\u001b[0m\u001b[0;34m\u001b[0m\u001b[0;34m\u001b[0m\u001b[0m\n\u001b[0;32m-> 1363\u001b[0;31m                     \u001b[0mconn\u001b[0m\u001b[0;34m.\u001b[0m\u001b[0mconnect\u001b[0m\u001b[0;34m(\u001b[0m\u001b[0;34m)\u001b[0m\u001b[0;34m\u001b[0m\u001b[0;34m\u001b[0m\u001b[0m\n\u001b[0m\u001b[1;32m   1364\u001b[0m                 \u001b[0mconn\u001b[0m\u001b[0;34m.\u001b[0m\u001b[0mrequest\u001b[0m\u001b[0;34m(\u001b[0m\u001b[0mmethod\u001b[0m\u001b[0;34m,\u001b[0m \u001b[0mrequest_uri\u001b[0m\u001b[0;34m,\u001b[0m \u001b[0mbody\u001b[0m\u001b[0;34m,\u001b[0m \u001b[0mheaders\u001b[0m\u001b[0;34m)\u001b[0m\u001b[0;34m\u001b[0m\u001b[0;34m\u001b[0m\u001b[0m\n\u001b[1;32m   1365\u001b[0m             \u001b[0;32mexcept\u001b[0m \u001b[0msocket\u001b[0m\u001b[0;34m.\u001b[0m\u001b[0mtimeout\u001b[0m\u001b[0;34m:\u001b[0m\u001b[0;34m\u001b[0m\u001b[0;34m\u001b[0m\u001b[0m\n",
      "\u001b[0;32m/usr/lib/python3/dist-packages/httplib2/__init__.py\u001b[0m in \u001b[0;36mconnect\u001b[0;34m(self)\u001b[0m\n\u001b[1;32m   1151\u001b[0m                 \u001b[0;32mif\u001b[0m \u001b[0mhas_timeout\u001b[0m\u001b[0;34m(\u001b[0m\u001b[0mself\u001b[0m\u001b[0;34m.\u001b[0m\u001b[0mtimeout\u001b[0m\u001b[0;34m)\u001b[0m\u001b[0;34m:\u001b[0m\u001b[0;34m\u001b[0m\u001b[0;34m\u001b[0m\u001b[0m\n\u001b[1;32m   1152\u001b[0m                     \u001b[0msock\u001b[0m\u001b[0;34m.\u001b[0m\u001b[0msettimeout\u001b[0m\u001b[0;34m(\u001b[0m\u001b[0mself\u001b[0m\u001b[0;34m.\u001b[0m\u001b[0mtimeout\u001b[0m\u001b[0;34m)\u001b[0m\u001b[0;34m\u001b[0m\u001b[0;34m\u001b[0m\u001b[0m\n\u001b[0;32m-> 1153\u001b[0;31m                 \u001b[0msock\u001b[0m\u001b[0;34m.\u001b[0m\u001b[0mconnect\u001b[0m\u001b[0;34m(\u001b[0m\u001b[0;34m(\u001b[0m\u001b[0mself\u001b[0m\u001b[0;34m.\u001b[0m\u001b[0mhost\u001b[0m\u001b[0;34m,\u001b[0m \u001b[0mself\u001b[0m\u001b[0;34m.\u001b[0m\u001b[0mport\u001b[0m\u001b[0;34m)\u001b[0m\u001b[0;34m)\u001b[0m\u001b[0;34m\u001b[0m\u001b[0;34m\u001b[0m\u001b[0m\n\u001b[0m\u001b[1;32m   1154\u001b[0m \u001b[0;34m\u001b[0m\u001b[0m\n\u001b[1;32m   1155\u001b[0m                 \u001b[0mself\u001b[0m\u001b[0;34m.\u001b[0m\u001b[0msock\u001b[0m \u001b[0;34m=\u001b[0m \u001b[0mself\u001b[0m\u001b[0;34m.\u001b[0m\u001b[0m_context\u001b[0m\u001b[0;34m.\u001b[0m\u001b[0mwrap_socket\u001b[0m\u001b[0;34m(\u001b[0m\u001b[0msock\u001b[0m\u001b[0;34m,\u001b[0m \u001b[0mserver_hostname\u001b[0m\u001b[0;34m=\u001b[0m\u001b[0mself\u001b[0m\u001b[0;34m.\u001b[0m\u001b[0mhost\u001b[0m\u001b[0;34m)\u001b[0m\u001b[0;34m\u001b[0m\u001b[0;34m\u001b[0m\u001b[0m\n",
      "\u001b[0;31mTimeoutError\u001b[0m: [Errno 110] Connection timed out"
     ]
    }
   ],
   "source": [
    "# Load dataframe into table\n",
    "d2g.upload(browser_df, \n",
    "           table_name, \n",
    "           sheet_name, \n",
    "           credentials=credentials,\n",
    "           row_names=True)"
   ]
  },
  {
   "cell_type": "code",
   "execution_count": null,
   "id": "8420b429",
   "metadata": {},
   "outputs": [],
   "source": []
  },
  {
   "cell_type": "code",
   "execution_count": null,
   "id": "f4f70e80",
   "metadata": {},
   "outputs": [],
   "source": [
    "#VK"
   ]
  },
  {
   "cell_type": "code",
   "execution_count": 37,
   "id": "aff6ea22",
   "metadata": {},
   "outputs": [],
   "source": [
    "# Go to the file with the token\n",
    "with open('/home/samgsm/data_analyst/token/vk_token.json') as src:\n",
    "    credentials = json.load(src)"
   ]
  },
  {
   "cell_type": "code",
   "execution_count": 39,
   "id": "8ccac84d",
   "metadata": {},
   "outputs": [],
   "source": [
    "# Assigning a token to a variable\n",
    "token = credentials['token']"
   ]
  },
  {
   "cell_type": "code",
   "execution_count": 41,
   "id": "5202a718",
   "metadata": {},
   "outputs": [],
   "source": [
    "# Create a session\n",
    "chat_id = 1\n",
    "vk_session = vk_api.VkApi(token=token)\n",
    "vk = vk_session.get_api()"
   ]
  },
  {
   "cell_type": "code",
   "execution_count": null,
   "id": "1e992009",
   "metadata": {},
   "outputs": [],
   "source": [
    "link = ''"
   ]
  },
  {
   "cell_type": "code",
   "execution_count": 42,
   "id": "8f057e1e",
   "metadata": {},
   "outputs": [
    {
     "data": {
      "text/plain": [
       "11"
      ]
     },
     "execution_count": 42,
     "metadata": {},
     "output_type": "execute_result"
    }
   ],
   "source": [
    "vk.messages.send(chat_id=chat_id, \n",
    "                 random_id=np.random.randint(0, 2**31), \n",
    "                 message=\"Hello\")"
   ]
  },
  {
   "cell_type": "code",
   "execution_count": null,
   "id": "85c0d311",
   "metadata": {},
   "outputs": [],
   "source": [
    "my_id = 218706183\n",
    "\n",
    "\n",
    "\n",
    "path = '/home/samgsm/data_analyst/7/top_ctr_data.csv'\n",
    "\n",
    "\n",
    "file_name = 'top_ctr_data.csv'\n",
    "\n",
    "\n",
    "upload_url = vk.docs.getMessagesUploadServer(peer_id=my_id)[\"upload_url\"]"
   ]
  },
  {
   "cell_type": "code",
   "execution_count": null,
   "id": "6ae0d49f",
   "metadata": {},
   "outputs": [],
   "source": [
    "with open(path, 'rb') as f:\n",
    "\n",
    "    file = {'file': (file_name, f)}\n",
    "\n",
    "\n",
    "    response = requests.post(upload_url, files=file)"
   ]
  },
  {
   "cell_type": "code",
   "execution_count": null,
   "id": "06d00c90",
   "metadata": {},
   "outputs": [],
   "source": [
    "json_data = json.loads(response.text)\n",
    "saved_file = vk.docs.save(file=json_data['file'], title=file_name)"
   ]
  },
  {
   "cell_type": "code",
   "execution_count": null,
   "id": "cbc8b859",
   "metadata": {},
   "outputs": [],
   "source": [
    "\n",
    "attachment = 'doc{}_{}'.format(saved_file['doc']['owner_id'], saved_file['doc']['id'])"
   ]
  },
  {
   "cell_type": "code",
   "execution_count": null,
   "id": "c5c44308",
   "metadata": {},
   "outputs": [],
   "source": [
    "vk.messages.send(chat_id=chat_id, \n",
    "                 random_id=np.random.randint(0, 2**31), \n",
    "                 message=\"Hello\",\n",
    "                 attachment=attachment)\n"
   ]
  },
  {
   "cell_type": "code",
   "execution_count": null,
   "id": "5207b4e6",
   "metadata": {},
   "outputs": [],
   "source": []
  }
 ],
 "metadata": {
  "kernelspec": {
   "display_name": "Python 3 (ipykernel)",
   "language": "python",
   "name": "python3"
  },
  "language_info": {
   "codemirror_mode": {
    "name": "ipython",
    "version": 3
   },
   "file_extension": ".py",
   "mimetype": "text/x-python",
   "name": "python",
   "nbconvert_exporter": "python",
   "pygments_lexer": "ipython3",
   "version": "3.10.6"
  }
 },
 "nbformat": 4,
 "nbformat_minor": 5
}
